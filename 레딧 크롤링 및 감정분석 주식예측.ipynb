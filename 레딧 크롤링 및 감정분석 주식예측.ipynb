{
  "nbformat": 4,
  "nbformat_minor": 0,
  "metadata": {
    "colab": {
      "provenance": [],
      "machine_shape": "hm",
      "gpuType": "A100"
    },
    "kernelspec": {
      "name": "python3",
      "display_name": "Python 3"
    },
    "language_info": {
      "name": "python"
    },
    "accelerator": "GPU"
  },
  "cells": [
    {
      "cell_type": "markdown",
      "source": [
        "#레딧 크롤링"
      ],
      "metadata": {
        "id": "5esYdb_HA4uu"
      }
    },
    {
      "cell_type": "code",
      "execution_count": null,
      "metadata": {
        "colab": {
          "base_uri": "https://localhost:8080/"
        },
        "id": "AXgEKiHaZ-5w",
        "outputId": "f4600411-f852-4012-f029-3af785b185c2"
      },
      "outputs": [
        {
          "output_type": "stream",
          "name": "stdout",
          "text": [
            "Collecting praw\n",
            "  Downloading praw-7.7.1-py3-none-any.whl (191 kB)\n",
            "\u001b[?25l     \u001b[90m━━━━━━━━━━━━━━━━━━━━━━━━━━━━━━━━━━━━━━━━\u001b[0m \u001b[32m0.0/191.0 kB\u001b[0m \u001b[31m?\u001b[0m eta \u001b[36m-:--:--\u001b[0m\r\u001b[2K     \u001b[91m━━━━━━━━━━━━━━━━━━━━━━━━━━━━━━━━\u001b[0m\u001b[90m╺\u001b[0m\u001b[90m━━━━━━━\u001b[0m \u001b[32m153.6/191.0 kB\u001b[0m \u001b[31m4.6 MB/s\u001b[0m eta \u001b[36m0:00:01\u001b[0m\r\u001b[2K     \u001b[90m━━━━━━━━━━━━━━━━━━━━━━━━━━━━━━━━━━━━━━━━\u001b[0m \u001b[32m191.0/191.0 kB\u001b[0m \u001b[31m4.2 MB/s\u001b[0m eta \u001b[36m0:00:00\u001b[0m\n",
            "\u001b[?25hCollecting prawcore<3,>=2.1 (from praw)\n",
            "  Downloading prawcore-2.4.0-py3-none-any.whl (17 kB)\n",
            "Collecting update-checker>=0.18 (from praw)\n",
            "  Downloading update_checker-0.18.0-py3-none-any.whl (7.0 kB)\n",
            "Requirement already satisfied: websocket-client>=0.54.0 in /usr/local/lib/python3.10/dist-packages (from praw) (1.7.0)\n",
            "Requirement already satisfied: requests<3.0,>=2.6.0 in /usr/local/lib/python3.10/dist-packages (from prawcore<3,>=2.1->praw) (2.31.0)\n",
            "Requirement already satisfied: charset-normalizer<4,>=2 in /usr/local/lib/python3.10/dist-packages (from requests<3.0,>=2.6.0->prawcore<3,>=2.1->praw) (3.3.2)\n",
            "Requirement already satisfied: idna<4,>=2.5 in /usr/local/lib/python3.10/dist-packages (from requests<3.0,>=2.6.0->prawcore<3,>=2.1->praw) (3.6)\n",
            "Requirement already satisfied: urllib3<3,>=1.21.1 in /usr/local/lib/python3.10/dist-packages (from requests<3.0,>=2.6.0->prawcore<3,>=2.1->praw) (2.0.7)\n",
            "Requirement already satisfied: certifi>=2017.4.17 in /usr/local/lib/python3.10/dist-packages (from requests<3.0,>=2.6.0->prawcore<3,>=2.1->praw) (2024.2.2)\n",
            "Installing collected packages: update-checker, prawcore, praw\n",
            "Successfully installed praw-7.7.1 prawcore-2.4.0 update-checker-0.18.0\n"
          ]
        }
      ],
      "source": [
        "!pip install praw"
      ]
    },
    {
      "cell_type": "code",
      "source": [
        "import praw\n",
        "\n",
        "reddit = praw.Reddit(client_id='5x41unSlZr0M_Fgq0DN2tQ',\n",
        "                     client_secret='ㅁㅁㅁㅁㅁㅁㅁㅁㅁㅁㅁㅁㅁㅁㅁㅁ',\n",
        "                     user_agent='siseo',\n",
        "                     username='siseo_98',\n",
        "                     password='tk2454612!')"
      ],
      "metadata": {
        "id": "Mpd-eSoJaD-J"
      },
      "execution_count": null,
      "outputs": []
    },
    {
      "cell_type": "code",
      "source": [
        "hot_posts = reddit.subreddit('APPLE').hot(limit=10)\n",
        "for post in hot_posts:\n",
        "    print(post.title)"
      ],
      "metadata": {
        "colab": {
          "base_uri": "https://localhost:8080/"
        },
        "id": "4SteAMqcavKO",
        "outputId": "7c294692-c1ea-4d3d-bdf5-785565511e1e"
      },
      "execution_count": null,
      "outputs": [
        {
          "output_type": "stream",
          "name": "stderr",
          "text": [
            "WARNING:praw:It appears that you are using PRAW in an asynchronous environment.\n",
            "It is strongly recommended to use Async PRAW: https://asyncpraw.readthedocs.io.\n",
            "See https://praw.readthedocs.io/en/latest/getting_started/multiple_instances.html#discord-bots-and-asynchronous-environments for more info.\n",
            "\n"
          ]
        },
        {
          "output_type": "stream",
          "name": "stdout",
          "text": [
            "hamburger\n",
            "hamburger\n",
            "What did Mark Zuckerberg eat at McDonald’s in Japan, and is it as great as he says it is?\n",
            "Hamburger\n",
            "GustocheSpiazza\n",
            "this is a burger\n",
            "Hamburger\n",
            "Bourger cat\n",
            "Burger: Which one is real? AI Image #ai\n",
            "cheese best no pickl\n"
          ]
        }
      ]
    },
    {
      "cell_type": "code",
      "source": [
        "new_posts = reddit.subreddit('AAPL').new(limit=100)\n",
        "for post in new_posts:\n",
        "    print(post.title)"
      ],
      "metadata": {
        "colab": {
          "base_uri": "https://localhost:8080/"
        },
        "id": "ZkOJ3X7zAUlk",
        "outputId": "dc79a015-6e91-4ca9-a706-2cf18244d3ad"
      },
      "execution_count": null,
      "outputs": [
        {
          "output_type": "stream",
          "name": "stderr",
          "text": [
            "WARNING:praw:It appears that you are using PRAW in an asynchronous environment.\n",
            "It is strongly recommended to use Async PRAW: https://asyncpraw.readthedocs.io.\n",
            "See https://praw.readthedocs.io/en/latest/getting_started/multiple_instances.html#discord-bots-and-asynchronous-environments for more info.\n",
            "\n"
          ]
        },
        {
          "output_type": "stream",
          "name": "stdout",
          "text": [
            "Apple scores record 13 Academy Award nominations, as culture-moving feature “Killers of the Flower Moon” lands 10 historic nominations for Best Picture, Best Actress for Lily Gladstone and Best Director for Martin Scorsese\n",
            "a breakdown of AAPL's green & red streaks in the past year\n",
            "S&P500 Prints Record Highs | $SAVE $AMD $TSLA $MARA $AAPL | Most Active ...\n",
            "$SAVE $AMD $TSLA $PLUG $MARA $AAPL $AGFY $F $LCID $RIVN Most Active Stoc...\n",
            "Apple Hongdae to welcome its first customers this Saturday, January 20, in South Korea\n",
            "Apple previews new entertainment experiences launching with Apple Vision Pro\n",
            "Apple Vision Pro available in the U.S. on February 2\n",
            "Stock market news today: Tech lags as Apple falls for 4th straight day ahead of Dec. jobs data\n",
            "Tim Apple needs to make some changes.... [small rant]\n",
            "Should i buy aapl now if i just want it to sit?? or do i go for something else\n",
            "What kind of idiot has 4 product lines but can’t sell one of them over the holiday due to a patent infringement?\n",
            "Apple explores AI deals with news publishers\n",
            "how can I pinpoint which weekday tends to have the highest trading volume and the biggest range? $AAPL\n",
            "Will $AAPL CLOSE ABOVE $200 before 2024?\n",
            "Apple regains its $3 trillion valuation despite analysts doubts\n",
            "SIRI Stock - A Possible Apple Merger in the Making?\n",
            "average true range (ATR): what is it, and how can you use it to trade $AAPL?\n",
            "having trouble finding a directional bias? here's how to find one using gap fills *not financial advice*\n",
            "how to leverage AAPL's average range by weekday with its range to ATR by weekday to build a trading strategy tailored to daily movements\n",
            "I was tempted to sell until I read this - 87 percent of teens have iphones\n",
            "let's take a look at $AAPL's gap fill data from 11/14/22 - 11/10/23\n",
            "#AIRevolution #HealthcareInnovation #FinancialAI #ManufacturingTech #EntertainmentAI #MachineLearningImpact #TechInnovation #AIinMedicine #DataAnalytics #FutureTech #ScienceAdvancements #EnvironmentalAI #InnovationInTech #DigitalTransformation #TechProgress #TechTransformations #AIExcellence #Intell\n",
            "#AIRevolution #HealthcareInnovation #FinancialAI #ManufacturingTech #EntertainmentAI #MachineLearningImpact #TechInnovation #AIinMedicine #DataAnalytics #FutureTech #ScienceAdvancements #EnvironmentalAI #InnovationInTech #DigitalTransformation #TechProgress #TechTransformations #AIExcellence #Intell\n",
            "AAPL range to ATR by weekday 11/07/23 - 11/03/23\n",
            "$AAPL fell 3% in after-hours trading after warning of dull holiday quarter, blaming weak demand for iPads and wearables, especially in China\n",
            "Apple MixC Wenzhou opens for customers this Saturday, November 4, in China\n",
            "Apple reports fourth quarter results\n",
            "AAPL green & red days by weekday | 07/31/2023 - 10/27/2023\n",
            "$AAPL | Monday gap fill data, 3 month data\n",
            "The problem with Yapple\n",
            "the price of AppleTV is going up 42%! 🤯was $6.99, now $9.99! want something free that'll make you feel good? here's an insight for all you $AAPL traders - let's have a green day to cover those expenses lol\n",
            "AAPL average range & volume by weekday, YTD as of 10/18/23\n",
            "AAPL average volume & range by weekday, YTD as of 10/12/23\n",
            "Ddd\n",
            "Cook sells\n",
            "AAPL measly dividend\n",
            "Short Interest Data for AAPL: For the 2-week period, ending on Settlement Date 9/15/2023: ~107.3 Million shares were shorted out of a total of 15.6 Billion Outstanding Shares. Therefore, $AAPL has a short interest of roughly 0.69%. Days to Cover for the period is 1.42.\n",
            "Apple's Market Snapshot for Sept 27: A Mixed Bag of Indicators—What's Your Take?\n",
            "the end of the year\n",
            "Aapl\n",
            "iPhone 15 ProMax ordering\n",
            "AAPL News along with Price and Volume Analysis By 650-Day Look Back!\n",
            "$AAPL 2023 EVENT - Apple Stock Analysis & Price Targets\n",
            "Short selling /GME repeat\n",
            "AAPL Stock: China Ban, Consolidates Previous Gains, Projected To Extend ...\n",
            "Draganfly to Host Draganflyer Xperience: First Responder User Conference at Draganfly’s Joint A.I.R Center in Texas\n",
            "[Update] AAPL Stock: On A Modest Breather From Its 52-Highs, Projected T...\n",
            "$AAPL Earnings Stock Analysis\n",
            "Yapple miss: matter or not?\n",
            "https://www.reuters.com/article/us-apple-competition-france-idCAKBN2131DP\n",
            "AAPL\n",
            "Why the record high numbers?\n",
            "Achievement unlocked: Three Trillion\n",
            "What. A. Run.\n",
            "Good rebuy point w/n next month?\n",
            "For those saying trim AAPL, what do you buy?\n",
            "Real time stock analysis during WWDC\n",
            "New Headset\n",
            "Sell it all\n",
            "Does anyone use other chat rooms?\n",
            "AAPL squaring out in price and time\n",
            "Dividend increase?\n",
            "Some worrying signs for Apple...\n",
            "Apple Likely to Boost Its Dividend and Stock Buybacks Yet Again\n",
            "Apple, Microsoft Dominate U.S. Markets After FAANG Trade Fizzles\n",
            "Dividend\n",
            "Some bank called Goldman\n",
            "Will APPLE Remain the #1 Stock? $AAPL Stock Analysis & Price Forecast..\n",
            "Morgan Stanley Raises Apple Target Price to $180\n",
            "Wall Street closes with appreciable and meritorious rises considering that it had everything against it. Unfavorable macro data and the yield on the 10-year US bond clearly above the feared 4%. The official excuse for the rise is that Bostic from the FED has made it clear that\n",
            "Steve Jobs Was The Master Of Unveiling Apple Products: This Was His Secret For Leaving Audiences Awestruck\n",
            "Gen Z iPhone Users vs Android Users & Apple Keeps Smiling To The Bank.\n",
            "Heard Of This Apple Supplier In China?\n",
            "Get excited about non invasive glucose monitoring or nah?\n",
            "We need to bring back the levels thread\n",
            "aapl to the moon\n",
            "Good earnings price goes down, worst earnings in 7 years and the price explodes\n",
            "Apple’s earnings were so bad even Bloomberg is in shock\n",
            "Investing Discord Server!\n",
            "Successful investing is not just about analyst ratings, it is about choosing the best analyst for the job. Take Apple (AAPL) analyst Michael Walkley who has an 85% success rating for a 1 year time period.\n",
            "Apple Supplier Plans To Invest $400M For New Vietnam Factories Amid China Tensions by Navdeep Yadav, Benzinga Staff Writer January 11, 2023 1:01 AM | 1 min read\n",
            "Stocks rose despite hawkish comments from Fed Chair Powell. Investors hope that Thursday’s consumer-price report will show inflation continuing to cool.\n",
            "Apple stock drops 3% on report demand is weakening By Investing.com\n",
            "How are we expecting the Quarterly results to look?\n",
            "$AAPL could fall below $100 - analyst\n",
            "Apple’s Plans for Car and AR Headset Reflect More Pragmatic Era\n",
            "AAPL Stock: Sellers Drive The Price Lower But Longer Term Selling Pressu...\n",
            "For anyone holding AAPL, be sure to come THROUGH for open discussions\n",
            "Apple’s stock price over time\n",
            "UPVOTE this IF YOU ARE HOLDING AAPL LONGTERM\n",
            "How is Apple mitigating the risk of a Chinese invasion of Taiwan, which would render TSMC inoperable?\n",
            "Why is AAPL poppin' today?\n",
            "Apple revenue breakdown based on today's results\n",
            "Apple gross margins by revenue type\n",
            "Apple's Global Active Devices\n",
            "Apple net sales by geography, visualized\n",
            "Apple Costs segmented and visualized [Finchart.co/aapl]\n",
            "Apple Revenue segmented and visualized [Finchart.co/aapl]\n",
            "Tim on to something? I think the meta verse as an investment is overblown, but I think the AR space Tim talks about fits humanoid meets tech aspirations\n",
            "Ray Wang, principal analyst and founder of Constellation Research, coined the acronym MATANA, which he feels is a better representation of big tech stocks than FAANG. In this article, we will discuss Wall Street’s opinions about three MATANA stocks and pick the most attractive one.\n"
          ]
        }
      ]
    },
    {
      "cell_type": "markdown",
      "source": [
        "# 크롤링 데이터 자연어 처리\n"
      ],
      "metadata": {
        "id": "kNEkvInoA8uZ"
      }
    },
    {
      "cell_type": "code",
      "source": [
        "import pandas as pd"
      ],
      "metadata": {
        "id": "pjjt6yWnBzSg"
      },
      "execution_count": null,
      "outputs": []
    },
    {
      "cell_type": "code",
      "source": [
        "new_posts = reddit.subreddit('AAPL').new(limit=100)\n",
        "# 각 게시글의 제목을 리스트로 저장\n",
        "titles = [post.title for post in new_posts]\n",
        "# 리스트를 DataFrame으로 변환\n",
        "df = pd.DataFrame(titles, columns=['title'])\n",
        "print(df)"
      ],
      "metadata": {
        "colab": {
          "base_uri": "https://localhost:8080/"
        },
        "id": "FY782SInBxZa",
        "outputId": "edc78891-792c-4681-8209-69271f7f829f"
      },
      "execution_count": null,
      "outputs": [
        {
          "output_type": "stream",
          "name": "stderr",
          "text": [
            "WARNING:praw:It appears that you are using PRAW in an asynchronous environment.\n",
            "It is strongly recommended to use Async PRAW: https://asyncpraw.readthedocs.io.\n",
            "See https://praw.readthedocs.io/en/latest/getting_started/multiple_instances.html#discord-bots-and-asynchronous-environments for more info.\n",
            "\n"
          ]
        },
        {
          "output_type": "stream",
          "name": "stdout",
          "text": [
            "                                                title\n",
            "0   Apple scores record 13 Academy Award nominatio...\n",
            "1   a breakdown of AAPL's green & red streaks in t...\n",
            "2   S&P500 Prints Record Highs | $SAVE $AMD $TSLA ...\n",
            "3   $SAVE $AMD $TSLA $PLUG $MARA $AAPL $AGFY $F $L...\n",
            "4   Apple Hongdae to welcome its first customers t...\n",
            "..                                                ...\n",
            "95           Apple net sales by geography, visualized\n",
            "96  Apple Costs segmented and visualized [Finchart...\n",
            "97  Apple Revenue segmented and visualized [Fincha...\n",
            "98  Tim on to something? I think the meta verse as...\n",
            "99  Ray Wang, principal analyst and founder of Con...\n",
            "\n",
            "[100 rows x 1 columns]\n"
          ]
        }
      ]
    },
    {
      "cell_type": "code",
      "source": [
        "!pip install nltk"
      ],
      "metadata": {
        "colab": {
          "base_uri": "https://localhost:8080/"
        },
        "id": "lrDj8ct3A_1B",
        "outputId": "33814ac2-6c13-4565-cb69-2bc4946476e0"
      },
      "execution_count": null,
      "outputs": [
        {
          "output_type": "stream",
          "name": "stdout",
          "text": [
            "Requirement already satisfied: nltk in /usr/local/lib/python3.10/dist-packages (3.8.1)\n",
            "Requirement already satisfied: click in /usr/local/lib/python3.10/dist-packages (from nltk) (8.1.7)\n",
            "Requirement already satisfied: joblib in /usr/local/lib/python3.10/dist-packages (from nltk) (1.3.2)\n",
            "Requirement already satisfied: regex>=2021.8.3 in /usr/local/lib/python3.10/dist-packages (from nltk) (2023.6.3)\n",
            "Requirement already satisfied: tqdm in /usr/local/lib/python3.10/dist-packages (from nltk) (4.66.1)\n"
          ]
        }
      ]
    },
    {
      "cell_type": "code",
      "source": [
        "import nltk\n",
        "import re\n",
        "from nltk.corpus import stopwords\n",
        "from nltk.tokenize import word_tokenize"
      ],
      "metadata": {
        "id": "F7WOQTZ-BCBJ"
      },
      "execution_count": null,
      "outputs": []
    },
    {
      "cell_type": "code",
      "source": [
        "# NLTK Data 다운로드\n",
        "nltk.download('punkt')\n",
        "nltk.download('stopwords')"
      ],
      "metadata": {
        "colab": {
          "base_uri": "https://localhost:8080/"
        },
        "id": "a87MJIhRBE7S",
        "outputId": "db253b28-3941-45f7-fa94-8840b82e57b0"
      },
      "execution_count": null,
      "outputs": [
        {
          "output_type": "stream",
          "name": "stderr",
          "text": [
            "[nltk_data] Downloading package punkt to /root/nltk_data...\n",
            "[nltk_data]   Unzipping tokenizers/punkt.zip.\n",
            "[nltk_data] Downloading package stopwords to /root/nltk_data...\n",
            "[nltk_data]   Unzipping corpora/stopwords.zip.\n"
          ]
        },
        {
          "output_type": "execute_result",
          "data": {
            "text/plain": [
              "True"
            ]
          },
          "metadata": {},
          "execution_count": 9
        }
      ]
    },
    {
      "cell_type": "code",
      "source": [
        "# 불용어 목록\n",
        "stop_words = set(stopwords.words('english'))"
      ],
      "metadata": {
        "id": "XluZSylJCTqw"
      },
      "execution_count": null,
      "outputs": []
    },
    {
      "cell_type": "code",
      "source": [
        "def process_text(text):\n",
        "    # 소문자 변환\n",
        "    text = text.lower()\n",
        "    # 특수 문자 제거\n",
        "    text = re.sub(r'[^\\w\\s]', '', text)\n",
        "    # 토큰화\n",
        "    tokens = word_tokenize(text)\n",
        "    # 불용어 제거\n",
        "    tokens = [token for token in tokens if token not in stop_words]\n",
        "    return tokens"
      ],
      "metadata": {
        "id": "yxxkunqFCWOB"
      },
      "execution_count": null,
      "outputs": []
    },
    {
      "cell_type": "code",
      "source": [
        "# 각 게시글에 대해 텍스트 처리 함수 적용\n",
        "df['processed_title'] = df['title'].apply(process_text)\n",
        "\n",
        "print(df['processed_title'])"
      ],
      "metadata": {
        "colab": {
          "base_uri": "https://localhost:8080/"
        },
        "id": "KDpFxLbVCZKK",
        "outputId": "9e7b3e7a-b0a3-472f-df61-2752c13a70a6"
      },
      "execution_count": null,
      "outputs": [
        {
          "output_type": "stream",
          "name": "stdout",
          "text": [
            "0     [apple, scores, record, 13, academy, award, no...\n",
            "1     [breakdown, aapls, green, red, streaks, past, ...\n",
            "2     [sp500, prints, record, highs, save, amd, tsla...\n",
            "3     [save, amd, tsla, plug, mara, aapl, agfy, f, l...\n",
            "4     [apple, hongdae, welcome, first, customers, sa...\n",
            "                            ...                        \n",
            "95           [apple, net, sales, geography, visualized]\n",
            "96    [apple, costs, segmented, visualized, finchart...\n",
            "97    [apple, revenue, segmented, visualized, fincha...\n",
            "98    [tim, something, think, meta, verse, investmen...\n",
            "99    [ray, wang, principal, analyst, founder, const...\n",
            "Name: processed_title, Length: 100, dtype: object\n"
          ]
        }
      ]
    },
    {
      "cell_type": "markdown",
      "source": [
        "# 긍정/부정 단어 리스트를 통한 긍정/부정 감성분석"
      ],
      "metadata": {
        "id": "GpS4EmkQC9LU"
      }
    },
    {
      "cell_type": "code",
      "source": [
        "from nltk.corpus import opinion_lexicon"
      ],
      "metadata": {
        "id": "7obcwDdqC8wk"
      },
      "execution_count": null,
      "outputs": []
    },
    {
      "cell_type": "code",
      "source": [
        "# NLTK Data 다운로드\n",
        "nltk.download('opinion_lexicon')"
      ],
      "metadata": {
        "colab": {
          "base_uri": "https://localhost:8080/"
        },
        "id": "zFEkHZ7rDJcZ",
        "outputId": "c7cbad8c-32a1-4090-fa09-21e8ed574dd2"
      },
      "execution_count": null,
      "outputs": [
        {
          "output_type": "stream",
          "name": "stderr",
          "text": [
            "[nltk_data] Downloading package opinion_lexicon to /root/nltk_data...\n",
            "[nltk_data]   Unzipping corpora/opinion_lexicon.zip.\n"
          ]
        },
        {
          "output_type": "execute_result",
          "data": {
            "text/plain": [
              "True"
            ]
          },
          "metadata": {},
          "execution_count": 14
        }
      ]
    },
    {
      "cell_type": "code",
      "source": [
        "# 긍정/부정 단어 리스트\n",
        "positive_words = set(opinion_lexicon.positive())\n",
        "negative_words = set(opinion_lexicon.negative())"
      ],
      "metadata": {
        "id": "utFt8BBNDMmy"
      },
      "execution_count": null,
      "outputs": []
    },
    {
      "cell_type": "code",
      "source": [
        "def calculate_sentiment(tokens):\n",
        "    # 긍정 단어와 부정 단어의 수를 계산\n",
        "    pos_count = sum(1 for token in tokens if token in positive_words)\n",
        "    neg_count = sum(1 for token in tokens if token in negative_words)\n",
        "    # 감성 점수를 계산 (긍정 단어 수 - 부정 단어 수)\n",
        "    return pos_count - neg_count"
      ],
      "metadata": {
        "id": "gQnf6a_tDOVF"
      },
      "execution_count": null,
      "outputs": []
    },
    {
      "cell_type": "code",
      "source": [
        "# 감성 점수 계산\n",
        "df['sentiment_score'] = df['processed_title'].apply(calculate_sentiment)\n",
        "\n",
        "print(df['sentiment_score'])"
      ],
      "metadata": {
        "colab": {
          "base_uri": "https://localhost:8080/"
        },
        "id": "tTBtww0hDQGc",
        "outputId": "7bc8f766-9646-4592-cd67-3b97adc47d3f"
      },
      "execution_count": null,
      "outputs": [
        {
          "output_type": "stream",
          "name": "stdout",
          "text": [
            "0     4\n",
            "1    -1\n",
            "2     0\n",
            "3     0\n",
            "4     1\n",
            "     ..\n",
            "95    0\n",
            "96    0\n",
            "97    0\n",
            "98    0\n",
            "99    2\n",
            "Name: sentiment_score, Length: 100, dtype: int64\n"
          ]
        }
      ]
    },
    {
      "cell_type": "code",
      "source": [
        "# 감성 점수가 양수인 경우 긍정, 음수인 경우 부정으로 판단\n",
        "df['sentiment'] = df['sentiment_score'].apply(lambda score: 'positive' if score > 0 else 'negative')\n",
        "\n",
        "# 긍정적인 게시글과 부정적인 게시글의 수를 세기\n",
        "sentiment_counts = df['sentiment'].value_counts()\n",
        "\n",
        "# 전체 게시글 수로 나눠서 비율을 계산\n",
        "sentiment_percent = sentiment_counts / len(df) * 100\n",
        "\n",
        "print(sentiment_percent)"
      ],
      "metadata": {
        "colab": {
          "base_uri": "https://localhost:8080/"
        },
        "id": "kBM5fnlqDc6D",
        "outputId": "253f631e-d72c-4cee-b2f9-e3f648665942"
      },
      "execution_count": null,
      "outputs": [
        {
          "output_type": "stream",
          "name": "stdout",
          "text": [
            "negative    83.0\n",
            "positive    17.0\n",
            "Name: sentiment, dtype: float64\n"
          ]
        }
      ]
    },
    {
      "cell_type": "markdown",
      "source": [
        "# 주가예측 LSTM (감성분석 결과 적용)"
      ],
      "metadata": {
        "id": "zy82Q3djEIB4"
      }
    },
    {
      "cell_type": "code",
      "source": [
        "!pip install yfinance"
      ],
      "metadata": {
        "colab": {
          "base_uri": "https://localhost:8080/"
        },
        "id": "TlsbPEAREOJW",
        "outputId": "ea852bca-8195-45ed-f28c-4e690f04e60a"
      },
      "execution_count": null,
      "outputs": [
        {
          "output_type": "stream",
          "name": "stdout",
          "text": [
            "Requirement already satisfied: yfinance in /usr/local/lib/python3.10/dist-packages (0.2.36)\n",
            "Requirement already satisfied: pandas>=1.3.0 in /usr/local/lib/python3.10/dist-packages (from yfinance) (1.5.3)\n",
            "Requirement already satisfied: numpy>=1.16.5 in /usr/local/lib/python3.10/dist-packages (from yfinance) (1.23.5)\n",
            "Requirement already satisfied: requests>=2.31 in /usr/local/lib/python3.10/dist-packages (from yfinance) (2.31.0)\n",
            "Requirement already satisfied: multitasking>=0.0.7 in /usr/local/lib/python3.10/dist-packages (from yfinance) (0.0.11)\n",
            "Requirement already satisfied: lxml>=4.9.1 in /usr/local/lib/python3.10/dist-packages (from yfinance) (4.9.4)\n",
            "Requirement already satisfied: appdirs>=1.4.4 in /usr/local/lib/python3.10/dist-packages (from yfinance) (1.4.4)\n",
            "Requirement already satisfied: pytz>=2022.5 in /usr/local/lib/python3.10/dist-packages (from yfinance) (2023.3.post1)\n",
            "Requirement already satisfied: frozendict>=2.3.4 in /usr/local/lib/python3.10/dist-packages (from yfinance) (2.4.0)\n",
            "Requirement already satisfied: peewee>=3.16.2 in /usr/local/lib/python3.10/dist-packages (from yfinance) (3.17.0)\n",
            "Requirement already satisfied: beautifulsoup4>=4.11.1 in /usr/local/lib/python3.10/dist-packages (from yfinance) (4.11.2)\n",
            "Requirement already satisfied: html5lib>=1.1 in /usr/local/lib/python3.10/dist-packages (from yfinance) (1.1)\n",
            "Requirement already satisfied: soupsieve>1.2 in /usr/local/lib/python3.10/dist-packages (from beautifulsoup4>=4.11.1->yfinance) (2.5)\n",
            "Requirement already satisfied: six>=1.9 in /usr/local/lib/python3.10/dist-packages (from html5lib>=1.1->yfinance) (1.16.0)\n",
            "Requirement already satisfied: webencodings in /usr/local/lib/python3.10/dist-packages (from html5lib>=1.1->yfinance) (0.5.1)\n",
            "Requirement already satisfied: python-dateutil>=2.8.1 in /usr/local/lib/python3.10/dist-packages (from pandas>=1.3.0->yfinance) (2.8.2)\n",
            "Requirement already satisfied: charset-normalizer<4,>=2 in /usr/local/lib/python3.10/dist-packages (from requests>=2.31->yfinance) (3.3.2)\n",
            "Requirement already satisfied: idna<4,>=2.5 in /usr/local/lib/python3.10/dist-packages (from requests>=2.31->yfinance) (3.6)\n",
            "Requirement already satisfied: urllib3<3,>=1.21.1 in /usr/local/lib/python3.10/dist-packages (from requests>=2.31->yfinance) (2.0.7)\n",
            "Requirement already satisfied: certifi>=2017.4.17 in /usr/local/lib/python3.10/dist-packages (from requests>=2.31->yfinance) (2023.11.17)\n"
          ]
        }
      ]
    },
    {
      "cell_type": "code",
      "source": [
        "import yfinance as yf"
      ],
      "metadata": {
        "colab": {
          "base_uri": "https://localhost:8080/"
        },
        "id": "T6bw5f6CEyRT",
        "outputId": "3ccb3b9a-25eb-4b4c-c2d1-cebc558585ea"
      },
      "execution_count": null,
      "outputs": [
        {
          "output_type": "stream",
          "name": "stderr",
          "text": [
            "/usr/local/lib/python3.10/dist-packages/yfinance/base.py:48: FutureWarning: The default dtype for empty Series will be 'object' instead of 'float64' in a future version. Specify a dtype explicitly to silence this warning.\n",
            "  _empty_series = pd.Series()\n"
          ]
        }
      ]
    },
    {
      "cell_type": "code",
      "source": [
        "# 'AAPL' 주식의 가격 데이터 다운로드\n",
        "data = yf.download('AAPL', start='2019-01-01', end='2024-01-24')"
      ],
      "metadata": {
        "colab": {
          "base_uri": "https://localhost:8080/"
        },
        "id": "oW0XgMvME2LV",
        "outputId": "9041c094-6a5b-4a0c-ac97-cddd3bc0e5b1"
      },
      "execution_count": null,
      "outputs": [
        {
          "output_type": "stream",
          "name": "stderr",
          "text": [
            "\r[*********************100%%**********************]  1 of 1 completed\n"
          ]
        }
      ]
    },
    {
      "cell_type": "code",
      "source": [
        "import pandas as pd\n",
        "import numpy as np\n",
        "import os\n",
        "from numpy import array\n",
        "import math\n",
        "import matplotlib.pyplot as plt\n",
        "from sklearn.preprocessing import MinMaxScaler\n",
        "import tensorflow as tf\n",
        "from tensorflow.keras.models import Sequential\n",
        "from tensorflow.keras.layers import Dense\n",
        "from tensorflow.keras.layers import LSTM\n",
        "%matplotlib inline"
      ],
      "metadata": {
        "id": "mkf9XxPSCVML"
      },
      "execution_count": null,
      "outputs": []
    },
    {
      "cell_type": "code",
      "source": [
        "df = pd.DataFrame(data)\n",
        "df.head()"
      ],
      "metadata": {
        "colab": {
          "base_uri": "https://localhost:8080/",
          "height": 237
        },
        "id": "lSkMnZ8kBdo3",
        "outputId": "c63aba21-9978-4598-a1e9-2588e6c6801f"
      },
      "execution_count": null,
      "outputs": [
        {
          "output_type": "execute_result",
          "data": {
            "text/plain": [
              "                 Open       High        Low      Close  Adj Close     Volume\n",
              "Date                                                                        \n",
              "2019-01-02  38.722500  39.712502  38.557499  39.480000  37.893337  148158800\n",
              "2019-01-03  35.994999  36.430000  35.500000  35.547501  34.118877  365248800\n",
              "2019-01-04  36.132500  37.137501  35.950001  37.064999  35.575390  234428400\n",
              "2019-01-07  37.174999  37.207500  36.474998  36.982498  35.496208  219111200\n",
              "2019-01-08  37.389999  37.955002  37.130001  37.687500  36.172874  164101200"
            ],
            "text/html": [
              "\n",
              "  <div id=\"df-6ca5e646-b3e3-449c-a821-5aeea897fef2\" class=\"colab-df-container\">\n",
              "    <div>\n",
              "<style scoped>\n",
              "    .dataframe tbody tr th:only-of-type {\n",
              "        vertical-align: middle;\n",
              "    }\n",
              "\n",
              "    .dataframe tbody tr th {\n",
              "        vertical-align: top;\n",
              "    }\n",
              "\n",
              "    .dataframe thead th {\n",
              "        text-align: right;\n",
              "    }\n",
              "</style>\n",
              "<table border=\"1\" class=\"dataframe\">\n",
              "  <thead>\n",
              "    <tr style=\"text-align: right;\">\n",
              "      <th></th>\n",
              "      <th>Open</th>\n",
              "      <th>High</th>\n",
              "      <th>Low</th>\n",
              "      <th>Close</th>\n",
              "      <th>Adj Close</th>\n",
              "      <th>Volume</th>\n",
              "    </tr>\n",
              "    <tr>\n",
              "      <th>Date</th>\n",
              "      <th></th>\n",
              "      <th></th>\n",
              "      <th></th>\n",
              "      <th></th>\n",
              "      <th></th>\n",
              "      <th></th>\n",
              "    </tr>\n",
              "  </thead>\n",
              "  <tbody>\n",
              "    <tr>\n",
              "      <th>2019-01-02</th>\n",
              "      <td>38.722500</td>\n",
              "      <td>39.712502</td>\n",
              "      <td>38.557499</td>\n",
              "      <td>39.480000</td>\n",
              "      <td>37.893337</td>\n",
              "      <td>148158800</td>\n",
              "    </tr>\n",
              "    <tr>\n",
              "      <th>2019-01-03</th>\n",
              "      <td>35.994999</td>\n",
              "      <td>36.430000</td>\n",
              "      <td>35.500000</td>\n",
              "      <td>35.547501</td>\n",
              "      <td>34.118877</td>\n",
              "      <td>365248800</td>\n",
              "    </tr>\n",
              "    <tr>\n",
              "      <th>2019-01-04</th>\n",
              "      <td>36.132500</td>\n",
              "      <td>37.137501</td>\n",
              "      <td>35.950001</td>\n",
              "      <td>37.064999</td>\n",
              "      <td>35.575390</td>\n",
              "      <td>234428400</td>\n",
              "    </tr>\n",
              "    <tr>\n",
              "      <th>2019-01-07</th>\n",
              "      <td>37.174999</td>\n",
              "      <td>37.207500</td>\n",
              "      <td>36.474998</td>\n",
              "      <td>36.982498</td>\n",
              "      <td>35.496208</td>\n",
              "      <td>219111200</td>\n",
              "    </tr>\n",
              "    <tr>\n",
              "      <th>2019-01-08</th>\n",
              "      <td>37.389999</td>\n",
              "      <td>37.955002</td>\n",
              "      <td>37.130001</td>\n",
              "      <td>37.687500</td>\n",
              "      <td>36.172874</td>\n",
              "      <td>164101200</td>\n",
              "    </tr>\n",
              "  </tbody>\n",
              "</table>\n",
              "</div>\n",
              "    <div class=\"colab-df-buttons\">\n",
              "\n",
              "  <div class=\"colab-df-container\">\n",
              "    <button class=\"colab-df-convert\" onclick=\"convertToInteractive('df-6ca5e646-b3e3-449c-a821-5aeea897fef2')\"\n",
              "            title=\"Convert this dataframe to an interactive table.\"\n",
              "            style=\"display:none;\">\n",
              "\n",
              "  <svg xmlns=\"http://www.w3.org/2000/svg\" height=\"24px\" viewBox=\"0 -960 960 960\">\n",
              "    <path d=\"M120-120v-720h720v720H120Zm60-500h600v-160H180v160Zm220 220h160v-160H400v160Zm0 220h160v-160H400v160ZM180-400h160v-160H180v160Zm440 0h160v-160H620v160ZM180-180h160v-160H180v160Zm440 0h160v-160H620v160Z\"/>\n",
              "  </svg>\n",
              "    </button>\n",
              "\n",
              "  <style>\n",
              "    .colab-df-container {\n",
              "      display:flex;\n",
              "      gap: 12px;\n",
              "    }\n",
              "\n",
              "    .colab-df-convert {\n",
              "      background-color: #E8F0FE;\n",
              "      border: none;\n",
              "      border-radius: 50%;\n",
              "      cursor: pointer;\n",
              "      display: none;\n",
              "      fill: #1967D2;\n",
              "      height: 32px;\n",
              "      padding: 0 0 0 0;\n",
              "      width: 32px;\n",
              "    }\n",
              "\n",
              "    .colab-df-convert:hover {\n",
              "      background-color: #E2EBFA;\n",
              "      box-shadow: 0px 1px 2px rgba(60, 64, 67, 0.3), 0px 1px 3px 1px rgba(60, 64, 67, 0.15);\n",
              "      fill: #174EA6;\n",
              "    }\n",
              "\n",
              "    .colab-df-buttons div {\n",
              "      margin-bottom: 4px;\n",
              "    }\n",
              "\n",
              "    [theme=dark] .colab-df-convert {\n",
              "      background-color: #3B4455;\n",
              "      fill: #D2E3FC;\n",
              "    }\n",
              "\n",
              "    [theme=dark] .colab-df-convert:hover {\n",
              "      background-color: #434B5C;\n",
              "      box-shadow: 0px 1px 3px 1px rgba(0, 0, 0, 0.15);\n",
              "      filter: drop-shadow(0px 1px 2px rgba(0, 0, 0, 0.3));\n",
              "      fill: #FFFFFF;\n",
              "    }\n",
              "  </style>\n",
              "\n",
              "    <script>\n",
              "      const buttonEl =\n",
              "        document.querySelector('#df-6ca5e646-b3e3-449c-a821-5aeea897fef2 button.colab-df-convert');\n",
              "      buttonEl.style.display =\n",
              "        google.colab.kernel.accessAllowed ? 'block' : 'none';\n",
              "\n",
              "      async function convertToInteractive(key) {\n",
              "        const element = document.querySelector('#df-6ca5e646-b3e3-449c-a821-5aeea897fef2');\n",
              "        const dataTable =\n",
              "          await google.colab.kernel.invokeFunction('convertToInteractive',\n",
              "                                                    [key], {});\n",
              "        if (!dataTable) return;\n",
              "\n",
              "        const docLinkHtml = 'Like what you see? Visit the ' +\n",
              "          '<a target=\"_blank\" href=https://colab.research.google.com/notebooks/data_table.ipynb>data table notebook</a>'\n",
              "          + ' to learn more about interactive tables.';\n",
              "        element.innerHTML = '';\n",
              "        dataTable['output_type'] = 'display_data';\n",
              "        await google.colab.output.renderOutput(dataTable, element);\n",
              "        const docLink = document.createElement('div');\n",
              "        docLink.innerHTML = docLinkHtml;\n",
              "        element.appendChild(docLink);\n",
              "      }\n",
              "    </script>\n",
              "  </div>\n",
              "\n",
              "\n",
              "<div id=\"df-321da0c2-918b-468b-8ccf-b2993cd9a35f\">\n",
              "  <button class=\"colab-df-quickchart\" onclick=\"quickchart('df-321da0c2-918b-468b-8ccf-b2993cd9a35f')\"\n",
              "            title=\"Suggest charts\"\n",
              "            style=\"display:none;\">\n",
              "\n",
              "<svg xmlns=\"http://www.w3.org/2000/svg\" height=\"24px\"viewBox=\"0 0 24 24\"\n",
              "     width=\"24px\">\n",
              "    <g>\n",
              "        <path d=\"M19 3H5c-1.1 0-2 .9-2 2v14c0 1.1.9 2 2 2h14c1.1 0 2-.9 2-2V5c0-1.1-.9-2-2-2zM9 17H7v-7h2v7zm4 0h-2V7h2v10zm4 0h-2v-4h2v4z\"/>\n",
              "    </g>\n",
              "</svg>\n",
              "  </button>\n",
              "\n",
              "<style>\n",
              "  .colab-df-quickchart {\n",
              "      --bg-color: #E8F0FE;\n",
              "      --fill-color: #1967D2;\n",
              "      --hover-bg-color: #E2EBFA;\n",
              "      --hover-fill-color: #174EA6;\n",
              "      --disabled-fill-color: #AAA;\n",
              "      --disabled-bg-color: #DDD;\n",
              "  }\n",
              "\n",
              "  [theme=dark] .colab-df-quickchart {\n",
              "      --bg-color: #3B4455;\n",
              "      --fill-color: #D2E3FC;\n",
              "      --hover-bg-color: #434B5C;\n",
              "      --hover-fill-color: #FFFFFF;\n",
              "      --disabled-bg-color: #3B4455;\n",
              "      --disabled-fill-color: #666;\n",
              "  }\n",
              "\n",
              "  .colab-df-quickchart {\n",
              "    background-color: var(--bg-color);\n",
              "    border: none;\n",
              "    border-radius: 50%;\n",
              "    cursor: pointer;\n",
              "    display: none;\n",
              "    fill: var(--fill-color);\n",
              "    height: 32px;\n",
              "    padding: 0;\n",
              "    width: 32px;\n",
              "  }\n",
              "\n",
              "  .colab-df-quickchart:hover {\n",
              "    background-color: var(--hover-bg-color);\n",
              "    box-shadow: 0 1px 2px rgba(60, 64, 67, 0.3), 0 1px 3px 1px rgba(60, 64, 67, 0.15);\n",
              "    fill: var(--button-hover-fill-color);\n",
              "  }\n",
              "\n",
              "  .colab-df-quickchart-complete:disabled,\n",
              "  .colab-df-quickchart-complete:disabled:hover {\n",
              "    background-color: var(--disabled-bg-color);\n",
              "    fill: var(--disabled-fill-color);\n",
              "    box-shadow: none;\n",
              "  }\n",
              "\n",
              "  .colab-df-spinner {\n",
              "    border: 2px solid var(--fill-color);\n",
              "    border-color: transparent;\n",
              "    border-bottom-color: var(--fill-color);\n",
              "    animation:\n",
              "      spin 1s steps(1) infinite;\n",
              "  }\n",
              "\n",
              "  @keyframes spin {\n",
              "    0% {\n",
              "      border-color: transparent;\n",
              "      border-bottom-color: var(--fill-color);\n",
              "      border-left-color: var(--fill-color);\n",
              "    }\n",
              "    20% {\n",
              "      border-color: transparent;\n",
              "      border-left-color: var(--fill-color);\n",
              "      border-top-color: var(--fill-color);\n",
              "    }\n",
              "    30% {\n",
              "      border-color: transparent;\n",
              "      border-left-color: var(--fill-color);\n",
              "      border-top-color: var(--fill-color);\n",
              "      border-right-color: var(--fill-color);\n",
              "    }\n",
              "    40% {\n",
              "      border-color: transparent;\n",
              "      border-right-color: var(--fill-color);\n",
              "      border-top-color: var(--fill-color);\n",
              "    }\n",
              "    60% {\n",
              "      border-color: transparent;\n",
              "      border-right-color: var(--fill-color);\n",
              "    }\n",
              "    80% {\n",
              "      border-color: transparent;\n",
              "      border-right-color: var(--fill-color);\n",
              "      border-bottom-color: var(--fill-color);\n",
              "    }\n",
              "    90% {\n",
              "      border-color: transparent;\n",
              "      border-bottom-color: var(--fill-color);\n",
              "    }\n",
              "  }\n",
              "</style>\n",
              "\n",
              "  <script>\n",
              "    async function quickchart(key) {\n",
              "      const quickchartButtonEl =\n",
              "        document.querySelector('#' + key + ' button');\n",
              "      quickchartButtonEl.disabled = true;  // To prevent multiple clicks.\n",
              "      quickchartButtonEl.classList.add('colab-df-spinner');\n",
              "      try {\n",
              "        const charts = await google.colab.kernel.invokeFunction(\n",
              "            'suggestCharts', [key], {});\n",
              "      } catch (error) {\n",
              "        console.error('Error during call to suggestCharts:', error);\n",
              "      }\n",
              "      quickchartButtonEl.classList.remove('colab-df-spinner');\n",
              "      quickchartButtonEl.classList.add('colab-df-quickchart-complete');\n",
              "    }\n",
              "    (() => {\n",
              "      let quickchartButtonEl =\n",
              "        document.querySelector('#df-321da0c2-918b-468b-8ccf-b2993cd9a35f button');\n",
              "      quickchartButtonEl.style.display =\n",
              "        google.colab.kernel.accessAllowed ? 'block' : 'none';\n",
              "    })();\n",
              "  </script>\n",
              "</div>\n",
              "\n",
              "    </div>\n",
              "  </div>\n"
            ]
          },
          "metadata": {},
          "execution_count": 180
        }
      ]
    },
    {
      "cell_type": "code",
      "source": [
        "df.shape"
      ],
      "metadata": {
        "colab": {
          "base_uri": "https://localhost:8080/"
        },
        "id": "QJcgxAUVB2uq",
        "outputId": "218adf0a-df02-4a72-f0d5-6b6125b1ed45"
      },
      "execution_count": null,
      "outputs": [
        {
          "output_type": "execute_result",
          "data": {
            "text/plain": [
              "(1273, 6)"
            ]
          },
          "metadata": {},
          "execution_count": 181
        }
      ]
    },
    {
      "cell_type": "code",
      "source": [
        "df1=df.reset_index()['Close'];df1"
      ],
      "metadata": {
        "colab": {
          "base_uri": "https://localhost:8080/"
        },
        "id": "nv1yNsCtDMfT",
        "outputId": "8cee56dd-f77e-406b-d321-00278665ac73"
      },
      "execution_count": null,
      "outputs": [
        {
          "output_type": "execute_result",
          "data": {
            "text/plain": [
              "0        39.480000\n",
              "1        35.547501\n",
              "2        37.064999\n",
              "3        36.982498\n",
              "4        37.687500\n",
              "           ...    \n",
              "1268    182.679993\n",
              "1269    188.630005\n",
              "1270    191.559998\n",
              "1271    193.889999\n",
              "1272    195.179993\n",
              "Name: Close, Length: 1273, dtype: float64"
            ]
          },
          "metadata": {},
          "execution_count": 182
        }
      ]
    },
    {
      "cell_type": "code",
      "source": [
        "plt.plot(df1);plt.show()"
      ],
      "metadata": {
        "colab": {
          "base_uri": "https://localhost:8080/",
          "height": 430
        },
        "id": "dQQqMGExDPmd",
        "outputId": "b3e6a8b0-2594-473e-a148-6476ea3b6641"
      },
      "execution_count": null,
      "outputs": [
        {
          "output_type": "display_data",
          "data": {
            "text/plain": [
              "<Figure size 640x480 with 1 Axes>"
            ],
            "image/png": "[encoded data removed]"
          },
          "metadata": {}
        }
      ]
    },
    {
      "cell_type": "code",
      "source": [
        "scaler=MinMaxScaler(feature_range=(0,1))\n",
        "df1=scaler.fit_transform(np.array(df1).reshape(-1,1));df1"
      ],
      "metadata": {
        "colab": {
          "base_uri": "https://localhost:8080/"
        },
        "id": "S1uVCrMMDR-2",
        "outputId": "bf6991b3-efa6-4d9f-d348-4df74653153d"
      },
      "execution_count": null,
      "outputs": [
        {
          "output_type": "execute_result",
          "data": {
            "text/plain": [
              "array([[0.02419069],\n",
              "       [0.        ],\n",
              "       [0.00933486],\n",
              "       ...,\n",
              "       [0.95970779],\n",
              "       [0.97404075],\n",
              "       [0.98197611]])"
            ]
          },
          "metadata": {},
          "execution_count": 184
        }
      ]
    },
    {
      "cell_type": "code",
      "source": [
        "##splitting dataset into train and test split\n",
        "training_size=int(len(df1)*0.80)\n",
        "test_size=len(df1)-training_size\n",
        "train_data,test_data=df1[0:training_size,:],df1[training_size:len(df1),:1]\n",
        "print(training_size,test_size)"
      ],
      "metadata": {
        "colab": {
          "base_uri": "https://localhost:8080/"
        },
        "id": "E8BfG9KvDVmw",
        "outputId": "2e9202ff-ba22-4dd0-80ba-534bcbb276ec"
      },
      "execution_count": null,
      "outputs": [
        {
          "output_type": "stream",
          "name": "stdout",
          "text": [
            "1018 255\n"
          ]
        }
      ]
    },
    {
      "cell_type": "code",
      "source": [
        "#convert an array of values into a dataset matrix\n",
        "def create_dataset(dataset, time_step=1):\n",
        "    dataX, dataY = [], []\n",
        "    for i in range(len(dataset)-time_step-1):\n",
        "        a = dataset[i:(i+time_step), 0]   ###i=0, 0,1,2,3-----99   100\n",
        "        dataX.append(a)\n",
        "        dataY.append(dataset[i + time_step, 0])\n",
        "    return np.array(dataX), np.array(dataY)"
      ],
      "metadata": {
        "id": "ZN0QhWUeDYba"
      },
      "execution_count": null,
      "outputs": []
    },
    {
      "cell_type": "code",
      "source": [
        "# reshape into X=t,t+1,t+2,t+3 and Y=t+4\n",
        "time_step = 100\n",
        "X_train, y_train = create_dataset(train_data, time_step)\n",
        "X_test, ytest = create_dataset(test_data, time_step)"
      ],
      "metadata": {
        "id": "7GByVAuODZ9r"
      },
      "execution_count": null,
      "outputs": []
    },
    {
      "cell_type": "code",
      "source": [
        "print(X_train.shape), print(y_train.shape),print(X_test.shape), print(ytest.shape)"
      ],
      "metadata": {
        "colab": {
          "base_uri": "https://localhost:8080/"
        },
        "id": "sHCwNot9DcD0",
        "outputId": "d4fe7cd2-0dc7-491f-9b50-b0e2fa40126e"
      },
      "execution_count": null,
      "outputs": [
        {
          "output_type": "stream",
          "name": "stdout",
          "text": [
            "(917, 100)\n",
            "(917,)\n",
            "(154, 100)\n",
            "(154,)\n"
          ]
        },
        {
          "output_type": "execute_result",
          "data": {
            "text/plain": [
              "(None, None, None, None)"
            ]
          },
          "metadata": {},
          "execution_count": 204
        }
      ]
    },
    {
      "cell_type": "code",
      "source": [
        "X_train =X_train.reshape(X_train.shape[0],X_train.shape[1] , 1)\n",
        "X_test = X_test.reshape(X_test.shape[0],X_test.shape[1] , 1)"
      ],
      "metadata": {
        "id": "IvMeyiOXDd02"
      },
      "execution_count": null,
      "outputs": []
    },
    {
      "cell_type": "code",
      "source": [
        "model=Sequential()\n",
        "model.add(LSTM(50,return_sequences=True,input_shape=(100,1)))\n",
        "model.add(LSTM(50,return_sequences=True))\n",
        "model.add(LSTM(50))\n",
        "model.add(Dense(1))\n",
        "model.compile(loss='mse',optimizer='adam')\n",
        "model.summary()"
      ],
      "metadata": {
        "colab": {
          "base_uri": "https://localhost:8080/"
        },
        "id": "iaXYAWiVDgTI",
        "outputId": "4037002a-4a33-4f06-928f-250f5fe81bd8"
      },
      "execution_count": null,
      "outputs": [
        {
          "output_type": "stream",
          "name": "stdout",
          "text": [
            "Model: \"sequential_7\"\n",
            "_________________________________________________________________\n",
            " Layer (type)                Output Shape              Param #   \n",
            "=================================================================\n",
            " lstm_14 (LSTM)              (None, 100, 50)           10400     \n",
            "                                                                 \n",
            " lstm_15 (LSTM)              (None, 100, 50)           20200     \n",
            "                                                                 \n",
            " lstm_16 (LSTM)              (None, 50)                20200     \n",
            "                                                                 \n",
            " dense_7 (Dense)             (None, 1)                 51        \n",
            "                                                                 \n",
            "=================================================================\n",
            "Total params: 50851 (198.64 KB)\n",
            "Trainable params: 50851 (198.64 KB)\n",
            "Non-trainable params: 0 (0.00 Byte)\n",
            "_________________________________________________________________\n"
          ]
        }
      ]
    },
    {
      "cell_type": "code",
      "source": [
        "history=model.fit(X_train,y_train,validation_data=(X_test,ytest),epochs=100,batch_size=64,verbose=0)"
      ],
      "metadata": {
        "id": "z1R91dEEDmK4"
      },
      "execution_count": null,
      "outputs": []
    },
    {
      "cell_type": "code",
      "source": [
        "# Show the learning curves\n",
        "history_df = pd.DataFrame(history.history)\n",
        "history_df.loc[:, ['loss', 'val_loss']].plot();"
      ],
      "metadata": {
        "colab": {
          "base_uri": "https://localhost:8080/",
          "height": 430
        },
        "id": "NMYYInOmDq9S",
        "outputId": "23e7fdd8-838a-45df-9601-4076f3d42f44"
      },
      "execution_count": null,
      "outputs": [
        {
          "output_type": "display_data",
          "data": {
            "text/plain": [
              "<Figure size 640x480 with 1 Axes>"
            ],
            "image/png": "[encoded data removed]"
          },
          "metadata": {}
        }
      ]
    },
    {
      "cell_type": "code",
      "source": [
        "train_predict=model.predict(X_train) #prediction\n",
        "test_predict=model.predict(X_test)"
      ],
      "metadata": {
        "colab": {
          "base_uri": "https://localhost:8080/"
        },
        "id": "Y-0oxEcfDsxt",
        "outputId": "b2f7df98-1a14-46d1-8002-8f45a54b0647"
      },
      "execution_count": null,
      "outputs": [
        {
          "output_type": "stream",
          "name": "stdout",
          "text": [
            "29/29 [==============================] - 1s 5ms/step\n",
            "5/5 [==============================] - 0s 6ms/step\n"
          ]
        }
      ]
    },
    {
      "cell_type": "code",
      "source": [
        "##Transformback to original form\n",
        "train_predict=scaler.inverse_transform(train_predict)\n",
        "test_predict=scaler.inverse_transform(test_predict)"
      ],
      "metadata": {
        "id": "PumS0XiKDuCL"
      },
      "execution_count": null,
      "outputs": []
    },
    {
      "cell_type": "code",
      "source": [
        "#Calculate RMSE performance metrics\n",
        "from sklearn.metrics import mean_squared_error\n",
        "print(math.sqrt(mean_squared_error(y_train,train_predict)))\n",
        "print(math.sqrt(mean_squared_error(ytest,test_predict)))"
      ],
      "metadata": {
        "colab": {
          "base_uri": "https://localhost:8080/"
        },
        "id": "M8TuPu5xDv1P",
        "outputId": "147550fc-61ae-408a-e02b-7e46632ae408"
      },
      "execution_count": null,
      "outputs": [
        {
          "output_type": "stream",
          "name": "stdout",
          "text": [
            "123.88959282254045\n",
            "182.0947520559061\n"
          ]
        }
      ]
    },
    {
      "cell_type": "code",
      "source": [
        "# shift train predictions for plotting\n",
        "look_back=100\n",
        "trainPredictPlot = np.empty_like(df1)\n",
        "trainPredictPlot[:, :] = np.nan\n",
        "trainPredictPlot[look_back:len(train_predict)+look_back, :] = train_predict\n",
        "# shift test predictions for plotting\n",
        "testPredictPlot = np.empty_like(df1)\n",
        "testPredictPlot[:, :] = np.nan\n",
        "testPredictPlot[len(train_predict)+(look_back*2)+1:len(df1)-1, :] = test_predict\n",
        "# plot baseline and predictions\n",
        "plt.plot(scaler.inverse_transform(df1))\n",
        "plt.plot(trainPredictPlot)\n",
        "plt.plot(testPredictPlot)\n",
        "plt.legend()\n",
        "plt.show()"
      ],
      "metadata": {
        "colab": {
          "base_uri": "https://localhost:8080/",
          "height": 468
        },
        "id": "TjWa6VQxDy0u",
        "outputId": "078801fe-35a5-48f6-de2b-3dbf3521fdbc"
      },
      "execution_count": null,
      "outputs": [
        {
          "output_type": "stream",
          "name": "stderr",
          "text": [
            "WARNING:matplotlib.legend:No artists with labels found to put in legend.  Note that artists whose label start with an underscore are ignored when legend() is called with no argument.\n"
          ]
        },
        {
          "output_type": "display_data",
          "data": {
            "text/plain": [
              "<Figure size 640x480 with 1 Axes>"
            ],
            "image/png": "[encoded data removed]"
          },
          "metadata": {}
        }
      ]
    },
    {
      "cell_type": "code",
      "source": [
        "x_input=test_data[154:].reshape(1,-1) #len(test_data)\n",
        "temp_input=list(x_input)\n",
        "temp_input=temp_input[0].tolist()"
      ],
      "metadata": {
        "id": "YXC1kF7VD1WP"
      },
      "execution_count": null,
      "outputs": []
    },
    {
      "cell_type": "code",
      "source": [
        "# demonstrate prediction for next 10 days\n",
        "lst_output=[]\n",
        "n_steps=100\n",
        "i=0\n",
        "while(i<30):\n",
        "\n",
        "    if(len(temp_input)>100):\n",
        "        #print(temp_input)\n",
        "        x_input=np.array(temp_input[1:])\n",
        "        print(\"{} day input {}\".format(i,x_input))\n",
        "        x_input=x_input.reshape(1,-1)\n",
        "        x_input = x_input.reshape((1, n_steps, 1))\n",
        "        #print(x_input)\n",
        "        yhat = model.predict(x_input, verbose=0)\n",
        "        print(\"{} day output {}\".format(i,yhat))\n",
        "        temp_input.extend(yhat[0].tolist())\n",
        "        temp_input=temp_input[1:]\n",
        "        #print(temp_input)\n",
        "        lst_output.extend(yhat.tolist())\n",
        "        i=i+1\n",
        "    else:\n",
        "        x_input = x_input.reshape((1, n_steps,1))\n",
        "        yhat = model.predict(x_input, verbose=0)\n",
        "        print(yhat[0])\n",
        "        temp_input.extend(yhat[0].tolist())\n",
        "        print(len(temp_input))\n",
        "        lst_output.extend(yhat.tolist())\n",
        "        i=i+1\n",
        "\n",
        "\n",
        "print(lst_output)"
      ],
      "metadata": {
        "colab": {
          "base_uri": "https://localhost:8080/"
        },
        "id": "4yHZJVQAD3ex",
        "outputId": "1d222404-6238-406a-bacb-1375321dcb06"
      },
      "execution_count": null,
      "outputs": [
        {
          "output_type": "stream",
          "name": "stdout",
          "text": [
            "0 day input [0.93565548 0.93700881 0.94678973 0.94826603 0.90649752 0.87358706\n",
            " 0.87740095 0.88465975 0.86583623 0.85297966 0.86239142 0.85790077\n",
            " 0.87610919 0.88287586 0.86085355 0.85125716 0.85654744 0.8644829\n",
            " 0.83913883 0.82972698 0.83132642 0.83452522 0.85014994 0.8418454\n",
            " 0.84959633 0.85728568 0.87315651 0.88238373 0.8786928  0.88736641\n",
            " 0.89296428 0.88152253 0.8807228  0.87106493 0.86300651 0.86066901\n",
            " 0.84479818 0.84553633 0.84824299 0.83384855 0.80795078 0.81613226\n",
            " 0.82886578 0.83181855 0.85150327 0.87364864 0.86798919 0.88386002\n",
            " 0.89979243 0.90637446 0.90342178 0.92796613 0.91812381 0.93436372\n",
            " 0.93787001 0.9483276  0.94820455 0.95903112 0.95404844 0.95816992\n",
            " 0.94992695 0.94881964 0.95257205 0.94623603 0.9498039  0.95773936\n",
            " 0.9466051  0.97114954 0.96438297 0.97637834 0.98523649 0.96967315\n",
            " 0.979085   0.99907732 1.         0.99667824 0.98634371 0.99280278\n",
            " 0.97982315 0.97890037 0.97225686 0.96887353 0.96948862 0.9721338\n",
            " 0.96567473 0.92329103 0.91474048 0.90034604 0.89585539 0.9227989\n",
            " 0.92021529 0.92667437 0.92298344 0.92501344 0.91092659 0.90508261\n",
            " 0.94168399 0.95970779 0.97404075 0.98197611]\n",
            "0 day output [[0.957393]]\n",
            "1 day input [0.93700881 0.94678973 0.94826603 0.90649752 0.87358706 0.87740095\n",
            " 0.88465975 0.86583623 0.85297966 0.86239142 0.85790077 0.87610919\n",
            " 0.88287586 0.86085355 0.85125716 0.85654744 0.8644829  0.83913883\n",
            " 0.82972698 0.83132642 0.83452522 0.85014994 0.8418454  0.84959633\n",
            " 0.85728568 0.87315651 0.88238373 0.8786928  0.88736641 0.89296428\n",
            " 0.88152253 0.8807228  0.87106493 0.86300651 0.86066901 0.84479818\n",
            " 0.84553633 0.84824299 0.83384855 0.80795078 0.81613226 0.82886578\n",
            " 0.83181855 0.85150327 0.87364864 0.86798919 0.88386002 0.89979243\n",
            " 0.90637446 0.90342178 0.92796613 0.91812381 0.93436372 0.93787001\n",
            " 0.9483276  0.94820455 0.95903112 0.95404844 0.95816992 0.94992695\n",
            " 0.94881964 0.95257205 0.94623603 0.9498039  0.95773936 0.9466051\n",
            " 0.97114954 0.96438297 0.97637834 0.98523649 0.96967315 0.979085\n",
            " 0.99907732 1.         0.99667824 0.98634371 0.99280278 0.97982315\n",
            " 0.97890037 0.97225686 0.96887353 0.96948862 0.9721338  0.96567473\n",
            " 0.92329103 0.91474048 0.90034604 0.89585539 0.9227989  0.92021529\n",
            " 0.92667437 0.92298344 0.92501344 0.91092659 0.90508261 0.94168399\n",
            " 0.95970779 0.97404075 0.98197611 0.95739299]\n",
            "1 day output [[0.9625605]]\n",
            "2 day input [0.94678973 0.94826603 0.90649752 0.87358706 0.87740095 0.88465975\n",
            " 0.86583623 0.85297966 0.86239142 0.85790077 0.87610919 0.88287586\n",
            " 0.86085355 0.85125716 0.85654744 0.8644829  0.83913883 0.82972698\n",
            " 0.83132642 0.83452522 0.85014994 0.8418454  0.84959633 0.85728568\n",
            " 0.87315651 0.88238373 0.8786928  0.88736641 0.89296428 0.88152253\n",
            " 0.8807228  0.87106493 0.86300651 0.86066901 0.84479818 0.84553633\n",
            " 0.84824299 0.83384855 0.80795078 0.81613226 0.82886578 0.83181855\n",
            " 0.85150327 0.87364864 0.86798919 0.88386002 0.89979243 0.90637446\n",
            " 0.90342178 0.92796613 0.91812381 0.93436372 0.93787001 0.9483276\n",
            " 0.94820455 0.95903112 0.95404844 0.95816992 0.94992695 0.94881964\n",
            " 0.95257205 0.94623603 0.9498039  0.95773936 0.9466051  0.97114954\n",
            " 0.96438297 0.97637834 0.98523649 0.96967315 0.979085   0.99907732\n",
            " 1.         0.99667824 0.98634371 0.99280278 0.97982315 0.97890037\n",
            " 0.97225686 0.96887353 0.96948862 0.9721338  0.96567473 0.92329103\n",
            " 0.91474048 0.90034604 0.89585539 0.9227989  0.92021529 0.92667437\n",
            " 0.92298344 0.92501344 0.91092659 0.90508261 0.94168399 0.95970779\n",
            " 0.97404075 0.98197611 0.95739299 0.96256047]\n",
            "2 day output [[0.96091205]]\n",
            "3 day input [0.94826603 0.90649752 0.87358706 0.87740095 0.88465975 0.86583623\n",
            " 0.85297966 0.86239142 0.85790077 0.87610919 0.88287586 0.86085355\n",
            " 0.85125716 0.85654744 0.8644829  0.83913883 0.82972698 0.83132642\n",
            " 0.83452522 0.85014994 0.8418454  0.84959633 0.85728568 0.87315651\n",
            " 0.88238373 0.8786928  0.88736641 0.89296428 0.88152253 0.8807228\n",
            " 0.87106493 0.86300651 0.86066901 0.84479818 0.84553633 0.84824299\n",
            " 0.83384855 0.80795078 0.81613226 0.82886578 0.83181855 0.85150327\n",
            " 0.87364864 0.86798919 0.88386002 0.89979243 0.90637446 0.90342178\n",
            " 0.92796613 0.91812381 0.93436372 0.93787001 0.9483276  0.94820455\n",
            " 0.95903112 0.95404844 0.95816992 0.94992695 0.94881964 0.95257205\n",
            " 0.94623603 0.9498039  0.95773936 0.9466051  0.97114954 0.96438297\n",
            " 0.97637834 0.98523649 0.96967315 0.979085   0.99907732 1.\n",
            " 0.99667824 0.98634371 0.99280278 0.97982315 0.97890037 0.97225686\n",
            " 0.96887353 0.96948862 0.9721338  0.96567473 0.92329103 0.91474048\n",
            " 0.90034604 0.89585539 0.9227989  0.92021529 0.92667437 0.92298344\n",
            " 0.92501344 0.91092659 0.90508261 0.94168399 0.95970779 0.97404075\n",
            " 0.98197611 0.95739299 0.96256047 0.96091205]\n",
            "3 day output [[0.9560825]]\n",
            "4 day input [0.90649752 0.87358706 0.87740095 0.88465975 0.86583623 0.85297966\n",
            " 0.86239142 0.85790077 0.87610919 0.88287586 0.86085355 0.85125716\n",
            " 0.85654744 0.8644829  0.83913883 0.82972698 0.83132642 0.83452522\n",
            " 0.85014994 0.8418454  0.84959633 0.85728568 0.87315651 0.88238373\n",
            " 0.8786928  0.88736641 0.89296428 0.88152253 0.8807228  0.87106493\n",
            " 0.86300651 0.86066901 0.84479818 0.84553633 0.84824299 0.83384855\n",
            " 0.80795078 0.81613226 0.82886578 0.83181855 0.85150327 0.87364864\n",
            " 0.86798919 0.88386002 0.89979243 0.90637446 0.90342178 0.92796613\n",
            " 0.91812381 0.93436372 0.93787001 0.9483276  0.94820455 0.95903112\n",
            " 0.95404844 0.95816992 0.94992695 0.94881964 0.95257205 0.94623603\n",
            " 0.9498039  0.95773936 0.9466051  0.97114954 0.96438297 0.97637834\n",
            " 0.98523649 0.96967315 0.979085   0.99907732 1.         0.99667824\n",
            " 0.98634371 0.99280278 0.97982315 0.97890037 0.97225686 0.96887353\n",
            " 0.96948862 0.9721338  0.96567473 0.92329103 0.91474048 0.90034604\n",
            " 0.89585539 0.9227989  0.92021529 0.92667437 0.92298344 0.92501344\n",
            " 0.91092659 0.90508261 0.94168399 0.95970779 0.97404075 0.98197611\n",
            " 0.95739299 0.96256047 0.96091205 0.95608252]\n",
            "4 day output [[0.94990367]]\n",
            "5 day input [0.87358706 0.87740095 0.88465975 0.86583623 0.85297966 0.86239142\n",
            " 0.85790077 0.87610919 0.88287586 0.86085355 0.85125716 0.85654744\n",
            " 0.8644829  0.83913883 0.82972698 0.83132642 0.83452522 0.85014994\n",
            " 0.8418454  0.84959633 0.85728568 0.87315651 0.88238373 0.8786928\n",
            " 0.88736641 0.89296428 0.88152253 0.8807228  0.87106493 0.86300651\n",
            " 0.86066901 0.84479818 0.84553633 0.84824299 0.83384855 0.80795078\n",
            " 0.81613226 0.82886578 0.83181855 0.85150327 0.87364864 0.86798919\n",
            " 0.88386002 0.89979243 0.90637446 0.90342178 0.92796613 0.91812381\n",
            " 0.93436372 0.93787001 0.9483276  0.94820455 0.95903112 0.95404844\n",
            " 0.95816992 0.94992695 0.94881964 0.95257205 0.94623603 0.9498039\n",
            " 0.95773936 0.9466051  0.97114954 0.96438297 0.97637834 0.98523649\n",
            " 0.96967315 0.979085   0.99907732 1.         0.99667824 0.98634371\n",
            " 0.99280278 0.97982315 0.97890037 0.97225686 0.96887353 0.96948862\n",
            " 0.9721338  0.96567473 0.92329103 0.91474048 0.90034604 0.89585539\n",
            " 0.9227989  0.92021529 0.92667437 0.92298344 0.92501344 0.91092659\n",
            " 0.90508261 0.94168399 0.95970779 0.97404075 0.98197611 0.95739299\n",
            " 0.96256047 0.96091205 0.95608252 0.94990367]\n",
            "5 day output [[0.94322443]]\n",
            "6 day input [0.87740095 0.88465975 0.86583623 0.85297966 0.86239142 0.85790077\n",
            " 0.87610919 0.88287586 0.86085355 0.85125716 0.85654744 0.8644829\n",
            " 0.83913883 0.82972698 0.83132642 0.83452522 0.85014994 0.8418454\n",
            " 0.84959633 0.85728568 0.87315651 0.88238373 0.8786928  0.88736641\n",
            " 0.89296428 0.88152253 0.8807228  0.87106493 0.86300651 0.86066901\n",
            " 0.84479818 0.84553633 0.84824299 0.83384855 0.80795078 0.81613226\n",
            " 0.82886578 0.83181855 0.85150327 0.87364864 0.86798919 0.88386002\n",
            " 0.89979243 0.90637446 0.90342178 0.92796613 0.91812381 0.93436372\n",
            " 0.93787001 0.9483276  0.94820455 0.95903112 0.95404844 0.95816992\n",
            " 0.94992695 0.94881964 0.95257205 0.94623603 0.9498039  0.95773936\n",
            " 0.9466051  0.97114954 0.96438297 0.97637834 0.98523649 0.96967315\n",
            " 0.979085   0.99907732 1.         0.99667824 0.98634371 0.99280278\n",
            " 0.97982315 0.97890037 0.97225686 0.96887353 0.96948862 0.9721338\n",
            " 0.96567473 0.92329103 0.91474048 0.90034604 0.89585539 0.9227989\n",
            " 0.92021529 0.92667437 0.92298344 0.92501344 0.91092659 0.90508261\n",
            " 0.94168399 0.95970779 0.97404075 0.98197611 0.95739299 0.96256047\n",
            " 0.96091205 0.95608252 0.94990367 0.94322443]\n",
            "6 day output [[0.936491]]\n",
            "7 day input [0.88465975 0.86583623 0.85297966 0.86239142 0.85790077 0.87610919\n",
            " 0.88287586 0.86085355 0.85125716 0.85654744 0.8644829  0.83913883\n",
            " 0.82972698 0.83132642 0.83452522 0.85014994 0.8418454  0.84959633\n",
            " 0.85728568 0.87315651 0.88238373 0.8786928  0.88736641 0.89296428\n",
            " 0.88152253 0.8807228  0.87106493 0.86300651 0.86066901 0.84479818\n",
            " 0.84553633 0.84824299 0.83384855 0.80795078 0.81613226 0.82886578\n",
            " 0.83181855 0.85150327 0.87364864 0.86798919 0.88386002 0.89979243\n",
            " 0.90637446 0.90342178 0.92796613 0.91812381 0.93436372 0.93787001\n",
            " 0.9483276  0.94820455 0.95903112 0.95404844 0.95816992 0.94992695\n",
            " 0.94881964 0.95257205 0.94623603 0.9498039  0.95773936 0.9466051\n",
            " 0.97114954 0.96438297 0.97637834 0.98523649 0.96967315 0.979085\n",
            " 0.99907732 1.         0.99667824 0.98634371 0.99280278 0.97982315\n",
            " 0.97890037 0.97225686 0.96887353 0.96948862 0.9721338  0.96567473\n",
            " 0.92329103 0.91474048 0.90034604 0.89585539 0.9227989  0.92021529\n",
            " 0.92667437 0.92298344 0.92501344 0.91092659 0.90508261 0.94168399\n",
            " 0.95970779 0.97404075 0.98197611 0.95739299 0.96256047 0.96091205\n",
            " 0.95608252 0.94990367 0.94322443 0.93649101]\n",
            "7 day output [[0.92998385]]\n",
            "8 day input [0.86583623 0.85297966 0.86239142 0.85790077 0.87610919 0.88287586\n",
            " 0.86085355 0.85125716 0.85654744 0.8644829  0.83913883 0.82972698\n",
            " 0.83132642 0.83452522 0.85014994 0.8418454  0.84959633 0.85728568\n",
            " 0.87315651 0.88238373 0.8786928  0.88736641 0.89296428 0.88152253\n",
            " 0.8807228  0.87106493 0.86300651 0.86066901 0.84479818 0.84553633\n",
            " 0.84824299 0.83384855 0.80795078 0.81613226 0.82886578 0.83181855\n",
            " 0.85150327 0.87364864 0.86798919 0.88386002 0.89979243 0.90637446\n",
            " 0.90342178 0.92796613 0.91812381 0.93436372 0.93787001 0.9483276\n",
            " 0.94820455 0.95903112 0.95404844 0.95816992 0.94992695 0.94881964\n",
            " 0.95257205 0.94623603 0.9498039  0.95773936 0.9466051  0.97114954\n",
            " 0.96438297 0.97637834 0.98523649 0.96967315 0.979085   0.99907732\n",
            " 1.         0.99667824 0.98634371 0.99280278 0.97982315 0.97890037\n",
            " 0.97225686 0.96887353 0.96948862 0.9721338  0.96567473 0.92329103\n",
            " 0.91474048 0.90034604 0.89585539 0.9227989  0.92021529 0.92667437\n",
            " 0.92298344 0.92501344 0.91092659 0.90508261 0.94168399 0.95970779\n",
            " 0.97404075 0.98197611 0.95739299 0.96256047 0.96091205 0.95608252\n",
            " 0.94990367 0.94322443 0.93649101 0.92998385]\n",
            "8 day output [[0.9238895]]\n",
            "9 day input [0.85297966 0.86239142 0.85790077 0.87610919 0.88287586 0.86085355\n",
            " 0.85125716 0.85654744 0.8644829  0.83913883 0.82972698 0.83132642\n",
            " 0.83452522 0.85014994 0.8418454  0.84959633 0.85728568 0.87315651\n",
            " 0.88238373 0.8786928  0.88736641 0.89296428 0.88152253 0.8807228\n",
            " 0.87106493 0.86300651 0.86066901 0.84479818 0.84553633 0.84824299\n",
            " 0.83384855 0.80795078 0.81613226 0.82886578 0.83181855 0.85150327\n",
            " 0.87364864 0.86798919 0.88386002 0.89979243 0.90637446 0.90342178\n",
            " 0.92796613 0.91812381 0.93436372 0.93787001 0.9483276  0.94820455\n",
            " 0.95903112 0.95404844 0.95816992 0.94992695 0.94881964 0.95257205\n",
            " 0.94623603 0.9498039  0.95773936 0.9466051  0.97114954 0.96438297\n",
            " 0.97637834 0.98523649 0.96967315 0.979085   0.99907732 1.\n",
            " 0.99667824 0.98634371 0.99280278 0.97982315 0.97890037 0.97225686\n",
            " 0.96887353 0.96948862 0.9721338  0.96567473 0.92329103 0.91474048\n",
            " 0.90034604 0.89585539 0.9227989  0.92021529 0.92667437 0.92298344\n",
            " 0.92501344 0.91092659 0.90508261 0.94168399 0.95970779 0.97404075\n",
            " 0.98197611 0.95739299 0.96256047 0.96091205 0.95608252 0.94990367\n",
            " 0.94322443 0.93649101 0.92998385 0.92388952]\n",
            "9 day output [[0.9183173]]\n",
            "10 day input [0.86239142 0.85790077 0.87610919 0.88287586 0.86085355 0.85125716\n",
            " 0.85654744 0.8644829  0.83913883 0.82972698 0.83132642 0.83452522\n",
            " 0.85014994 0.8418454  0.84959633 0.85728568 0.87315651 0.88238373\n",
            " 0.8786928  0.88736641 0.89296428 0.88152253 0.8807228  0.87106493\n",
            " 0.86300651 0.86066901 0.84479818 0.84553633 0.84824299 0.83384855\n",
            " 0.80795078 0.81613226 0.82886578 0.83181855 0.85150327 0.87364864\n",
            " 0.86798919 0.88386002 0.89979243 0.90637446 0.90342178 0.92796613\n",
            " 0.91812381 0.93436372 0.93787001 0.9483276  0.94820455 0.95903112\n",
            " 0.95404844 0.95816992 0.94992695 0.94881964 0.95257205 0.94623603\n",
            " 0.9498039  0.95773936 0.9466051  0.97114954 0.96438297 0.97637834\n",
            " 0.98523649 0.96967315 0.979085   0.99907732 1.         0.99667824\n",
            " 0.98634371 0.99280278 0.97982315 0.97890037 0.97225686 0.96887353\n",
            " 0.96948862 0.9721338  0.96567473 0.92329103 0.91474048 0.90034604\n",
            " 0.89585539 0.9227989  0.92021529 0.92667437 0.92298344 0.92501344\n",
            " 0.91092659 0.90508261 0.94168399 0.95970779 0.97404075 0.98197611\n",
            " 0.95739299 0.96256047 0.96091205 0.95608252 0.94990367 0.94322443\n",
            " 0.93649101 0.92998385 0.92388952 0.91831732]\n",
            "10 day output [[0.9133101]]\n",
            "11 day input [0.85790077 0.87610919 0.88287586 0.86085355 0.85125716 0.85654744\n",
            " 0.8644829  0.83913883 0.82972698 0.83132642 0.83452522 0.85014994\n",
            " 0.8418454  0.84959633 0.85728568 0.87315651 0.88238373 0.8786928\n",
            " 0.88736641 0.89296428 0.88152253 0.8807228  0.87106493 0.86300651\n",
            " 0.86066901 0.84479818 0.84553633 0.84824299 0.83384855 0.80795078\n",
            " 0.81613226 0.82886578 0.83181855 0.85150327 0.87364864 0.86798919\n",
            " 0.88386002 0.89979243 0.90637446 0.90342178 0.92796613 0.91812381\n",
            " 0.93436372 0.93787001 0.9483276  0.94820455 0.95903112 0.95404844\n",
            " 0.95816992 0.94992695 0.94881964 0.95257205 0.94623603 0.9498039\n",
            " 0.95773936 0.9466051  0.97114954 0.96438297 0.97637834 0.98523649\n",
            " 0.96967315 0.979085   0.99907732 1.         0.99667824 0.98634371\n",
            " 0.99280278 0.97982315 0.97890037 0.97225686 0.96887353 0.96948862\n",
            " 0.9721338  0.96567473 0.92329103 0.91474048 0.90034604 0.89585539\n",
            " 0.9227989  0.92021529 0.92667437 0.92298344 0.92501344 0.91092659\n",
            " 0.90508261 0.94168399 0.95970779 0.97404075 0.98197611 0.95739299\n",
            " 0.96256047 0.96091205 0.95608252 0.94990367 0.94322443 0.93649101\n",
            " 0.92998385 0.92388952 0.91831732 0.91331011]\n",
            "11 day output [[0.9088545]]\n",
            "12 day input [0.87610919 0.88287586 0.86085355 0.85125716 0.85654744 0.8644829\n",
            " 0.83913883 0.82972698 0.83132642 0.83452522 0.85014994 0.8418454\n",
            " 0.84959633 0.85728568 0.87315651 0.88238373 0.8786928  0.88736641\n",
            " 0.89296428 0.88152253 0.8807228  0.87106493 0.86300651 0.86066901\n",
            " 0.84479818 0.84553633 0.84824299 0.83384855 0.80795078 0.81613226\n",
            " 0.82886578 0.83181855 0.85150327 0.87364864 0.86798919 0.88386002\n",
            " 0.89979243 0.90637446 0.90342178 0.92796613 0.91812381 0.93436372\n",
            " 0.93787001 0.9483276  0.94820455 0.95903112 0.95404844 0.95816992\n",
            " 0.94992695 0.94881964 0.95257205 0.94623603 0.9498039  0.95773936\n",
            " 0.9466051  0.97114954 0.96438297 0.97637834 0.98523649 0.96967315\n",
            " 0.979085   0.99907732 1.         0.99667824 0.98634371 0.99280278\n",
            " 0.97982315 0.97890037 0.97225686 0.96887353 0.96948862 0.9721338\n",
            " 0.96567473 0.92329103 0.91474048 0.90034604 0.89585539 0.9227989\n",
            " 0.92021529 0.92667437 0.92298344 0.92501344 0.91092659 0.90508261\n",
            " 0.94168399 0.95970779 0.97404075 0.98197611 0.95739299 0.96256047\n",
            " 0.96091205 0.95608252 0.94990367 0.94322443 0.93649101 0.92998385\n",
            " 0.92388952 0.91831732 0.91331011 0.90885448]\n",
            "12 day output [[0.90489715]]\n",
            "13 day input [0.88287586 0.86085355 0.85125716 0.85654744 0.8644829  0.83913883\n",
            " 0.82972698 0.83132642 0.83452522 0.85014994 0.8418454  0.84959633\n",
            " 0.85728568 0.87315651 0.88238373 0.8786928  0.88736641 0.89296428\n",
            " 0.88152253 0.8807228  0.87106493 0.86300651 0.86066901 0.84479818\n",
            " 0.84553633 0.84824299 0.83384855 0.80795078 0.81613226 0.82886578\n",
            " 0.83181855 0.85150327 0.87364864 0.86798919 0.88386002 0.89979243\n",
            " 0.90637446 0.90342178 0.92796613 0.91812381 0.93436372 0.93787001\n",
            " 0.9483276  0.94820455 0.95903112 0.95404844 0.95816992 0.94992695\n",
            " 0.94881964 0.95257205 0.94623603 0.9498039  0.95773936 0.9466051\n",
            " 0.97114954 0.96438297 0.97637834 0.98523649 0.96967315 0.979085\n",
            " 0.99907732 1.         0.99667824 0.98634371 0.99280278 0.97982315\n",
            " 0.97890037 0.97225686 0.96887353 0.96948862 0.9721338  0.96567473\n",
            " 0.92329103 0.91474048 0.90034604 0.89585539 0.9227989  0.92021529\n",
            " 0.92667437 0.92298344 0.92501344 0.91092659 0.90508261 0.94168399\n",
            " 0.95970779 0.97404075 0.98197611 0.95739299 0.96256047 0.96091205\n",
            " 0.95608252 0.94990367 0.94322443 0.93649101 0.92998385 0.92388952\n",
            " 0.91831732 0.91331011 0.90885448 0.90489715]\n",
            "13 day output [[0.9013593]]\n",
            "14 day input [0.86085355 0.85125716 0.85654744 0.8644829  0.83913883 0.82972698\n",
            " 0.83132642 0.83452522 0.85014994 0.8418454  0.84959633 0.85728568\n",
            " 0.87315651 0.88238373 0.8786928  0.88736641 0.89296428 0.88152253\n",
            " 0.8807228  0.87106493 0.86300651 0.86066901 0.84479818 0.84553633\n",
            " 0.84824299 0.83384855 0.80795078 0.81613226 0.82886578 0.83181855\n",
            " 0.85150327 0.87364864 0.86798919 0.88386002 0.89979243 0.90637446\n",
            " 0.90342178 0.92796613 0.91812381 0.93436372 0.93787001 0.9483276\n",
            " 0.94820455 0.95903112 0.95404844 0.95816992 0.94992695 0.94881964\n",
            " 0.95257205 0.94623603 0.9498039  0.95773936 0.9466051  0.97114954\n",
            " 0.96438297 0.97637834 0.98523649 0.96967315 0.979085   0.99907732\n",
            " 1.         0.99667824 0.98634371 0.99280278 0.97982315 0.97890037\n",
            " 0.97225686 0.96887353 0.96948862 0.9721338  0.96567473 0.92329103\n",
            " 0.91474048 0.90034604 0.89585539 0.9227989  0.92021529 0.92667437\n",
            " 0.92298344 0.92501344 0.91092659 0.90508261 0.94168399 0.95970779\n",
            " 0.97404075 0.98197611 0.95739299 0.96256047 0.96091205 0.95608252\n",
            " 0.94990367 0.94322443 0.93649101 0.92998385 0.92388952 0.91831732\n",
            " 0.91331011 0.90885448 0.90489715 0.90135932]\n",
            "14 day output [[0.89815]]\n",
            "15 day input [0.85125716 0.85654744 0.8644829  0.83913883 0.82972698 0.83132642\n",
            " 0.83452522 0.85014994 0.8418454  0.84959633 0.85728568 0.87315651\n",
            " 0.88238373 0.8786928  0.88736641 0.89296428 0.88152253 0.8807228\n",
            " 0.87106493 0.86300651 0.86066901 0.84479818 0.84553633 0.84824299\n",
            " 0.83384855 0.80795078 0.81613226 0.82886578 0.83181855 0.85150327\n",
            " 0.87364864 0.86798919 0.88386002 0.89979243 0.90637446 0.90342178\n",
            " 0.92796613 0.91812381 0.93436372 0.93787001 0.9483276  0.94820455\n",
            " 0.95903112 0.95404844 0.95816992 0.94992695 0.94881964 0.95257205\n",
            " 0.94623603 0.9498039  0.95773936 0.9466051  0.97114954 0.96438297\n",
            " 0.97637834 0.98523649 0.96967315 0.979085   0.99907732 1.\n",
            " 0.99667824 0.98634371 0.99280278 0.97982315 0.97890037 0.97225686\n",
            " 0.96887353 0.96948862 0.9721338  0.96567473 0.92329103 0.91474048\n",
            " 0.90034604 0.89585539 0.9227989  0.92021529 0.92667437 0.92298344\n",
            " 0.92501344 0.91092659 0.90508261 0.94168399 0.95970779 0.97404075\n",
            " 0.98197611 0.95739299 0.96256047 0.96091205 0.95608252 0.94990367\n",
            " 0.94322443 0.93649101 0.92998385 0.92388952 0.91831732 0.91331011\n",
            " 0.90885448 0.90489715 0.90135932 0.89815003]\n",
            "15 day output [[0.8951771]]\n",
            "16 day input [0.85654744 0.8644829  0.83913883 0.82972698 0.83132642 0.83452522\n",
            " 0.85014994 0.8418454  0.84959633 0.85728568 0.87315651 0.88238373\n",
            " 0.8786928  0.88736641 0.89296428 0.88152253 0.8807228  0.87106493\n",
            " 0.86300651 0.86066901 0.84479818 0.84553633 0.84824299 0.83384855\n",
            " 0.80795078 0.81613226 0.82886578 0.83181855 0.85150327 0.87364864\n",
            " 0.86798919 0.88386002 0.89979243 0.90637446 0.90342178 0.92796613\n",
            " 0.91812381 0.93436372 0.93787001 0.9483276  0.94820455 0.95903112\n",
            " 0.95404844 0.95816992 0.94992695 0.94881964 0.95257205 0.94623603\n",
            " 0.9498039  0.95773936 0.9466051  0.97114954 0.96438297 0.97637834\n",
            " 0.98523649 0.96967315 0.979085   0.99907732 1.         0.99667824\n",
            " 0.98634371 0.99280278 0.97982315 0.97890037 0.97225686 0.96887353\n",
            " 0.96948862 0.9721338  0.96567473 0.92329103 0.91474048 0.90034604\n",
            " 0.89585539 0.9227989  0.92021529 0.92667437 0.92298344 0.92501344\n",
            " 0.91092659 0.90508261 0.94168399 0.95970779 0.97404075 0.98197611\n",
            " 0.95739299 0.96256047 0.96091205 0.95608252 0.94990367 0.94322443\n",
            " 0.93649101 0.92998385 0.92388952 0.91831732 0.91331011 0.90885448\n",
            " 0.90489715 0.90135932 0.89815003 0.89517713]\n",
            "16 day output [[0.8923561]]\n",
            "17 day input [0.8644829  0.83913883 0.82972698 0.83132642 0.83452522 0.85014994\n",
            " 0.8418454  0.84959633 0.85728568 0.87315651 0.88238373 0.8786928\n",
            " 0.88736641 0.89296428 0.88152253 0.8807228  0.87106493 0.86300651\n",
            " 0.86066901 0.84479818 0.84553633 0.84824299 0.83384855 0.80795078\n",
            " 0.81613226 0.82886578 0.83181855 0.85150327 0.87364864 0.86798919\n",
            " 0.88386002 0.89979243 0.90637446 0.90342178 0.92796613 0.91812381\n",
            " 0.93436372 0.93787001 0.9483276  0.94820455 0.95903112 0.95404844\n",
            " 0.95816992 0.94992695 0.94881964 0.95257205 0.94623603 0.9498039\n",
            " 0.95773936 0.9466051  0.97114954 0.96438297 0.97637834 0.98523649\n",
            " 0.96967315 0.979085   0.99907732 1.         0.99667824 0.98634371\n",
            " 0.99280278 0.97982315 0.97890037 0.97225686 0.96887353 0.96948862\n",
            " 0.9721338  0.96567473 0.92329103 0.91474048 0.90034604 0.89585539\n",
            " 0.9227989  0.92021529 0.92667437 0.92298344 0.92501344 0.91092659\n",
            " 0.90508261 0.94168399 0.95970779 0.97404075 0.98197611 0.95739299\n",
            " 0.96256047 0.96091205 0.95608252 0.94990367 0.94322443 0.93649101\n",
            " 0.92998385 0.92388952 0.91831732 0.91331011 0.90885448 0.90489715\n",
            " 0.90135932 0.89815003 0.89517713 0.8923561 ]\n",
            "17 day output [[0.8896149]]\n",
            "18 day input [0.83913883 0.82972698 0.83132642 0.83452522 0.85014994 0.8418454\n",
            " 0.84959633 0.85728568 0.87315651 0.88238373 0.8786928  0.88736641\n",
            " 0.89296428 0.88152253 0.8807228  0.87106493 0.86300651 0.86066901\n",
            " 0.84479818 0.84553633 0.84824299 0.83384855 0.80795078 0.81613226\n",
            " 0.82886578 0.83181855 0.85150327 0.87364864 0.86798919 0.88386002\n",
            " 0.89979243 0.90637446 0.90342178 0.92796613 0.91812381 0.93436372\n",
            " 0.93787001 0.9483276  0.94820455 0.95903112 0.95404844 0.95816992\n",
            " 0.94992695 0.94881964 0.95257205 0.94623603 0.9498039  0.95773936\n",
            " 0.9466051  0.97114954 0.96438297 0.97637834 0.98523649 0.96967315\n",
            " 0.979085   0.99907732 1.         0.99667824 0.98634371 0.99280278\n",
            " 0.97982315 0.97890037 0.97225686 0.96887353 0.96948862 0.9721338\n",
            " 0.96567473 0.92329103 0.91474048 0.90034604 0.89585539 0.9227989\n",
            " 0.92021529 0.92667437 0.92298344 0.92501344 0.91092659 0.90508261\n",
            " 0.94168399 0.95970779 0.97404075 0.98197611 0.95739299 0.96256047\n",
            " 0.96091205 0.95608252 0.94990367 0.94322443 0.93649101 0.92998385\n",
            " 0.92388952 0.91831732 0.91331011 0.90885448 0.90489715 0.90135932\n",
            " 0.89815003 0.89517713 0.8923561  0.88961488]\n",
            "18 day output [[0.8868976]]\n",
            "19 day input [0.82972698 0.83132642 0.83452522 0.85014994 0.8418454  0.84959633\n",
            " 0.85728568 0.87315651 0.88238373 0.8786928  0.88736641 0.89296428\n",
            " 0.88152253 0.8807228  0.87106493 0.86300651 0.86066901 0.84479818\n",
            " 0.84553633 0.84824299 0.83384855 0.80795078 0.81613226 0.82886578\n",
            " 0.83181855 0.85150327 0.87364864 0.86798919 0.88386002 0.89979243\n",
            " 0.90637446 0.90342178 0.92796613 0.91812381 0.93436372 0.93787001\n",
            " 0.9483276  0.94820455 0.95903112 0.95404844 0.95816992 0.94992695\n",
            " 0.94881964 0.95257205 0.94623603 0.9498039  0.95773936 0.9466051\n",
            " 0.97114954 0.96438297 0.97637834 0.98523649 0.96967315 0.979085\n",
            " 0.99907732 1.         0.99667824 0.98634371 0.99280278 0.97982315\n",
            " 0.97890037 0.97225686 0.96887353 0.96948862 0.9721338  0.96567473\n",
            " 0.92329103 0.91474048 0.90034604 0.89585539 0.9227989  0.92021529\n",
            " 0.92667437 0.92298344 0.92501344 0.91092659 0.90508261 0.94168399\n",
            " 0.95970779 0.97404075 0.98197611 0.95739299 0.96256047 0.96091205\n",
            " 0.95608252 0.94990367 0.94322443 0.93649101 0.92998385 0.92388952\n",
            " 0.91831732 0.91331011 0.90885448 0.90489715 0.90135932 0.89815003\n",
            " 0.89517713 0.8923561  0.88961488 0.88689762]\n",
            "19 day output [[0.8841648]]\n",
            "20 day input [0.83132642 0.83452522 0.85014994 0.8418454  0.84959633 0.85728568\n",
            " 0.87315651 0.88238373 0.8786928  0.88736641 0.89296428 0.88152253\n",
            " 0.8807228  0.87106493 0.86300651 0.86066901 0.84479818 0.84553633\n",
            " 0.84824299 0.83384855 0.80795078 0.81613226 0.82886578 0.83181855\n",
            " 0.85150327 0.87364864 0.86798919 0.88386002 0.89979243 0.90637446\n",
            " 0.90342178 0.92796613 0.91812381 0.93436372 0.93787001 0.9483276\n",
            " 0.94820455 0.95903112 0.95404844 0.95816992 0.94992695 0.94881964\n",
            " 0.95257205 0.94623603 0.9498039  0.95773936 0.9466051  0.97114954\n",
            " 0.96438297 0.97637834 0.98523649 0.96967315 0.979085   0.99907732\n",
            " 1.         0.99667824 0.98634371 0.99280278 0.97982315 0.97890037\n",
            " 0.97225686 0.96887353 0.96948862 0.9721338  0.96567473 0.92329103\n",
            " 0.91474048 0.90034604 0.89585539 0.9227989  0.92021529 0.92667437\n",
            " 0.92298344 0.92501344 0.91092659 0.90508261 0.94168399 0.95970779\n",
            " 0.97404075 0.98197611 0.95739299 0.96256047 0.96091205 0.95608252\n",
            " 0.94990367 0.94322443 0.93649101 0.92998385 0.92388952 0.91831732\n",
            " 0.91331011 0.90885448 0.90489715 0.90135932 0.89815003 0.89517713\n",
            " 0.8923561  0.88961488 0.88689762 0.88416481]\n",
            "20 day output [[0.8813934]]\n",
            "21 day input [0.83452522 0.85014994 0.8418454  0.84959633 0.85728568 0.87315651\n",
            " 0.88238373 0.8786928  0.88736641 0.89296428 0.88152253 0.8807228\n",
            " 0.87106493 0.86300651 0.86066901 0.84479818 0.84553633 0.84824299\n",
            " 0.83384855 0.80795078 0.81613226 0.82886578 0.83181855 0.85150327\n",
            " 0.87364864 0.86798919 0.88386002 0.89979243 0.90637446 0.90342178\n",
            " 0.92796613 0.91812381 0.93436372 0.93787001 0.9483276  0.94820455\n",
            " 0.95903112 0.95404844 0.95816992 0.94992695 0.94881964 0.95257205\n",
            " 0.94623603 0.9498039  0.95773936 0.9466051  0.97114954 0.96438297\n",
            " 0.97637834 0.98523649 0.96967315 0.979085   0.99907732 1.\n",
            " 0.99667824 0.98634371 0.99280278 0.97982315 0.97890037 0.97225686\n",
            " 0.96887353 0.96948862 0.9721338  0.96567473 0.92329103 0.91474048\n",
            " 0.90034604 0.89585539 0.9227989  0.92021529 0.92667437 0.92298344\n",
            " 0.92501344 0.91092659 0.90508261 0.94168399 0.95970779 0.97404075\n",
            " 0.98197611 0.95739299 0.96256047 0.96091205 0.95608252 0.94990367\n",
            " 0.94322443 0.93649101 0.92998385 0.92388952 0.91831732 0.91331011\n",
            " 0.90885448 0.90489715 0.90135932 0.89815003 0.89517713 0.8923561\n",
            " 0.88961488 0.88689762 0.88416481 0.88139337]\n",
            "21 day output [[0.8785741]]\n",
            "22 day input [0.85014994 0.8418454  0.84959633 0.85728568 0.87315651 0.88238373\n",
            " 0.8786928  0.88736641 0.89296428 0.88152253 0.8807228  0.87106493\n",
            " 0.86300651 0.86066901 0.84479818 0.84553633 0.84824299 0.83384855\n",
            " 0.80795078 0.81613226 0.82886578 0.83181855 0.85150327 0.87364864\n",
            " 0.86798919 0.88386002 0.89979243 0.90637446 0.90342178 0.92796613\n",
            " 0.91812381 0.93436372 0.93787001 0.9483276  0.94820455 0.95903112\n",
            " 0.95404844 0.95816992 0.94992695 0.94881964 0.95257205 0.94623603\n",
            " 0.9498039  0.95773936 0.9466051  0.97114954 0.96438297 0.97637834\n",
            " 0.98523649 0.96967315 0.979085   0.99907732 1.         0.99667824\n",
            " 0.98634371 0.99280278 0.97982315 0.97890037 0.97225686 0.96887353\n",
            " 0.96948862 0.9721338  0.96567473 0.92329103 0.91474048 0.90034604\n",
            " 0.89585539 0.9227989  0.92021529 0.92667437 0.92298344 0.92501344\n",
            " 0.91092659 0.90508261 0.94168399 0.95970779 0.97404075 0.98197611\n",
            " 0.95739299 0.96256047 0.96091205 0.95608252 0.94990367 0.94322443\n",
            " 0.93649101 0.92998385 0.92388952 0.91831732 0.91331011 0.90885448\n",
            " 0.90489715 0.90135932 0.89815003 0.89517713 0.8923561  0.88961488\n",
            " 0.88689762 0.88416481 0.88139337 0.87857407]\n",
            "22 day output [[0.8757095]]\n",
            "23 day input [0.8418454  0.84959633 0.85728568 0.87315651 0.88238373 0.8786928\n",
            " 0.88736641 0.89296428 0.88152253 0.8807228  0.87106493 0.86300651\n",
            " 0.86066901 0.84479818 0.84553633 0.84824299 0.83384855 0.80795078\n",
            " 0.81613226 0.82886578 0.83181855 0.85150327 0.87364864 0.86798919\n",
            " 0.88386002 0.89979243 0.90637446 0.90342178 0.92796613 0.91812381\n",
            " 0.93436372 0.93787001 0.9483276  0.94820455 0.95903112 0.95404844\n",
            " 0.95816992 0.94992695 0.94881964 0.95257205 0.94623603 0.9498039\n",
            " 0.95773936 0.9466051  0.97114954 0.96438297 0.97637834 0.98523649\n",
            " 0.96967315 0.979085   0.99907732 1.         0.99667824 0.98634371\n",
            " 0.99280278 0.97982315 0.97890037 0.97225686 0.96887353 0.96948862\n",
            " 0.9721338  0.96567473 0.92329103 0.91474048 0.90034604 0.89585539\n",
            " 0.9227989  0.92021529 0.92667437 0.92298344 0.92501344 0.91092659\n",
            " 0.90508261 0.94168399 0.95970779 0.97404075 0.98197611 0.95739299\n",
            " 0.96256047 0.96091205 0.95608252 0.94990367 0.94322443 0.93649101\n",
            " 0.92998385 0.92388952 0.91831732 0.91331011 0.90885448 0.90489715\n",
            " 0.90135932 0.89815003 0.89517713 0.8923561  0.88961488 0.88689762\n",
            " 0.88416481 0.88139337 0.87857407 0.87570947]\n",
            "23 day output [[0.8728104]]\n",
            "24 day input [0.84959633 0.85728568 0.87315651 0.88238373 0.8786928  0.88736641\n",
            " 0.89296428 0.88152253 0.8807228  0.87106493 0.86300651 0.86066901\n",
            " 0.84479818 0.84553633 0.84824299 0.83384855 0.80795078 0.81613226\n",
            " 0.82886578 0.83181855 0.85150327 0.87364864 0.86798919 0.88386002\n",
            " 0.89979243 0.90637446 0.90342178 0.92796613 0.91812381 0.93436372\n",
            " 0.93787001 0.9483276  0.94820455 0.95903112 0.95404844 0.95816992\n",
            " 0.94992695 0.94881964 0.95257205 0.94623603 0.9498039  0.95773936\n",
            " 0.9466051  0.97114954 0.96438297 0.97637834 0.98523649 0.96967315\n",
            " 0.979085   0.99907732 1.         0.99667824 0.98634371 0.99280278\n",
            " 0.97982315 0.97890037 0.97225686 0.96887353 0.96948862 0.9721338\n",
            " 0.96567473 0.92329103 0.91474048 0.90034604 0.89585539 0.9227989\n",
            " 0.92021529 0.92667437 0.92298344 0.92501344 0.91092659 0.90508261\n",
            " 0.94168399 0.95970779 0.97404075 0.98197611 0.95739299 0.96256047\n",
            " 0.96091205 0.95608252 0.94990367 0.94322443 0.93649101 0.92998385\n",
            " 0.92388952 0.91831732 0.91331011 0.90885448 0.90489715 0.90135932\n",
            " 0.89815003 0.89517713 0.8923561  0.88961488 0.88689762 0.88416481\n",
            " 0.88139337 0.87857407 0.87570947 0.87281042]\n",
            "24 day output [[0.8698936]]\n",
            "25 day input [0.85728568 0.87315651 0.88238373 0.8786928  0.88736641 0.89296428\n",
            " 0.88152253 0.8807228  0.87106493 0.86300651 0.86066901 0.84479818\n",
            " 0.84553633 0.84824299 0.83384855 0.80795078 0.81613226 0.82886578\n",
            " 0.83181855 0.85150327 0.87364864 0.86798919 0.88386002 0.89979243\n",
            " 0.90637446 0.90342178 0.92796613 0.91812381 0.93436372 0.93787001\n",
            " 0.9483276  0.94820455 0.95903112 0.95404844 0.95816992 0.94992695\n",
            " 0.94881964 0.95257205 0.94623603 0.9498039  0.95773936 0.9466051\n",
            " 0.97114954 0.96438297 0.97637834 0.98523649 0.96967315 0.979085\n",
            " 0.99907732 1.         0.99667824 0.98634371 0.99280278 0.97982315\n",
            " 0.97890037 0.97225686 0.96887353 0.96948862 0.9721338  0.96567473\n",
            " 0.92329103 0.91474048 0.90034604 0.89585539 0.9227989  0.92021529\n",
            " 0.92667437 0.92298344 0.92501344 0.91092659 0.90508261 0.94168399\n",
            " 0.95970779 0.97404075 0.98197611 0.95739299 0.96256047 0.96091205\n",
            " 0.95608252 0.94990367 0.94322443 0.93649101 0.92998385 0.92388952\n",
            " 0.91831732 0.91331011 0.90885448 0.90489715 0.90135932 0.89815003\n",
            " 0.89517713 0.8923561  0.88961488 0.88689762 0.88416481 0.88139337\n",
            " 0.87857407 0.87570947 0.87281042 0.86989361]\n",
            "25 day output [[0.8669784]]\n",
            "26 day input [0.87315651 0.88238373 0.8786928  0.88736641 0.89296428 0.88152253\n",
            " 0.8807228  0.87106493 0.86300651 0.86066901 0.84479818 0.84553633\n",
            " 0.84824299 0.83384855 0.80795078 0.81613226 0.82886578 0.83181855\n",
            " 0.85150327 0.87364864 0.86798919 0.88386002 0.89979243 0.90637446\n",
            " 0.90342178 0.92796613 0.91812381 0.93436372 0.93787001 0.9483276\n",
            " 0.94820455 0.95903112 0.95404844 0.95816992 0.94992695 0.94881964\n",
            " 0.95257205 0.94623603 0.9498039  0.95773936 0.9466051  0.97114954\n",
            " 0.96438297 0.97637834 0.98523649 0.96967315 0.979085   0.99907732\n",
            " 1.         0.99667824 0.98634371 0.99280278 0.97982315 0.97890037\n",
            " 0.97225686 0.96887353 0.96948862 0.9721338  0.96567473 0.92329103\n",
            " 0.91474048 0.90034604 0.89585539 0.9227989  0.92021529 0.92667437\n",
            " 0.92298344 0.92501344 0.91092659 0.90508261 0.94168399 0.95970779\n",
            " 0.97404075 0.98197611 0.95739299 0.96256047 0.96091205 0.95608252\n",
            " 0.94990367 0.94322443 0.93649101 0.92998385 0.92388952 0.91831732\n",
            " 0.91331011 0.90885448 0.90489715 0.90135932 0.89815003 0.89517713\n",
            " 0.8923561  0.88961488 0.88689762 0.88416481 0.88139337 0.87857407\n",
            " 0.87570947 0.87281042 0.86989361 0.86697841]\n",
            "26 day output [[0.8640844]]\n",
            "27 day input [0.88238373 0.8786928  0.88736641 0.89296428 0.88152253 0.8807228\n",
            " 0.87106493 0.86300651 0.86066901 0.84479818 0.84553633 0.84824299\n",
            " 0.83384855 0.80795078 0.81613226 0.82886578 0.83181855 0.85150327\n",
            " 0.87364864 0.86798919 0.88386002 0.89979243 0.90637446 0.90342178\n",
            " 0.92796613 0.91812381 0.93436372 0.93787001 0.9483276  0.94820455\n",
            " 0.95903112 0.95404844 0.95816992 0.94992695 0.94881964 0.95257205\n",
            " 0.94623603 0.9498039  0.95773936 0.9466051  0.97114954 0.96438297\n",
            " 0.97637834 0.98523649 0.96967315 0.979085   0.99907732 1.\n",
            " 0.99667824 0.98634371 0.99280278 0.97982315 0.97890037 0.97225686\n",
            " 0.96887353 0.96948862 0.9721338  0.96567473 0.92329103 0.91474048\n",
            " 0.90034604 0.89585539 0.9227989  0.92021529 0.92667437 0.92298344\n",
            " 0.92501344 0.91092659 0.90508261 0.94168399 0.95970779 0.97404075\n",
            " 0.98197611 0.95739299 0.96256047 0.96091205 0.95608252 0.94990367\n",
            " 0.94322443 0.93649101 0.92998385 0.92388952 0.91831732 0.91331011\n",
            " 0.90885448 0.90489715 0.90135932 0.89815003 0.89517713 0.8923561\n",
            " 0.88961488 0.88689762 0.88416481 0.88139337 0.87857407 0.87570947\n",
            " 0.87281042 0.86989361 0.86697841 0.86408442]\n",
            "27 day output [[0.86123013]]\n",
            "28 day input [0.8786928  0.88736641 0.89296428 0.88152253 0.8807228  0.87106493\n",
            " 0.86300651 0.86066901 0.84479818 0.84553633 0.84824299 0.83384855\n",
            " 0.80795078 0.81613226 0.82886578 0.83181855 0.85150327 0.87364864\n",
            " 0.86798919 0.88386002 0.89979243 0.90637446 0.90342178 0.92796613\n",
            " 0.91812381 0.93436372 0.93787001 0.9483276  0.94820455 0.95903112\n",
            " 0.95404844 0.95816992 0.94992695 0.94881964 0.95257205 0.94623603\n",
            " 0.9498039  0.95773936 0.9466051  0.97114954 0.96438297 0.97637834\n",
            " 0.98523649 0.96967315 0.979085   0.99907732 1.         0.99667824\n",
            " 0.98634371 0.99280278 0.97982315 0.97890037 0.97225686 0.96887353\n",
            " 0.96948862 0.9721338  0.96567473 0.92329103 0.91474048 0.90034604\n",
            " 0.89585539 0.9227989  0.92021529 0.92667437 0.92298344 0.92501344\n",
            " 0.91092659 0.90508261 0.94168399 0.95970779 0.97404075 0.98197611\n",
            " 0.95739299 0.96256047 0.96091205 0.95608252 0.94990367 0.94322443\n",
            " 0.93649101 0.92998385 0.92388952 0.91831732 0.91331011 0.90885448\n",
            " 0.90489715 0.90135932 0.89815003 0.89517713 0.8923561  0.88961488\n",
            " 0.88689762 0.88416481 0.88139337 0.87857407 0.87570947 0.87281042\n",
            " 0.86989361 0.86697841 0.86408442 0.86123013]\n",
            "28 day output [[0.8584314]]\n",
            "29 day input [0.88736641 0.89296428 0.88152253 0.8807228  0.87106493 0.86300651\n",
            " 0.86066901 0.84479818 0.84553633 0.84824299 0.83384855 0.80795078\n",
            " 0.81613226 0.82886578 0.83181855 0.85150327 0.87364864 0.86798919\n",
            " 0.88386002 0.89979243 0.90637446 0.90342178 0.92796613 0.91812381\n",
            " 0.93436372 0.93787001 0.9483276  0.94820455 0.95903112 0.95404844\n",
            " 0.95816992 0.94992695 0.94881964 0.95257205 0.94623603 0.9498039\n",
            " 0.95773936 0.9466051  0.97114954 0.96438297 0.97637834 0.98523649\n",
            " 0.96967315 0.979085   0.99907732 1.         0.99667824 0.98634371\n",
            " 0.99280278 0.97982315 0.97890037 0.97225686 0.96887353 0.96948862\n",
            " 0.9721338  0.96567473 0.92329103 0.91474048 0.90034604 0.89585539\n",
            " 0.9227989  0.92021529 0.92667437 0.92298344 0.92501344 0.91092659\n",
            " 0.90508261 0.94168399 0.95970779 0.97404075 0.98197611 0.95739299\n",
            " 0.96256047 0.96091205 0.95608252 0.94990367 0.94322443 0.93649101\n",
            " 0.92998385 0.92388952 0.91831732 0.91331011 0.90885448 0.90489715\n",
            " 0.90135932 0.89815003 0.89517713 0.8923561  0.88961488 0.88689762\n",
            " 0.88416481 0.88139337 0.87857407 0.87570947 0.87281042 0.86989361\n",
            " 0.86697841 0.86408442 0.86123013 0.8584314 ]\n",
            "29 day output [[0.8557004]]\n",
            "[[0.9573929905891418], [0.9625604748725891], [0.9609120488166809], [0.9560825228691101], [0.949903666973114], [0.9432244300842285], [0.9364910125732422], [0.9299838542938232], [0.9238895177841187], [0.9183173179626465], [0.9133101105690002], [0.9088544845581055], [0.904897153377533], [0.9013593196868896], [0.8981500267982483], [0.8951771259307861], [0.8923560976982117], [0.8896148800849915], [0.886897623538971], [0.8841648101806641], [0.8813933730125427], [0.8785740733146667], [0.8757094740867615], [0.872810423374176], [0.8698936104774475], [0.8669784069061279], [0.8640844225883484], [0.8612301349639893], [0.8584313988685608], [0.8557003736495972]]\n"
          ]
        }
      ]
    },
    {
      "cell_type": "code",
      "source": [
        "day_new=np.arange(1,101)\n",
        "day_pred=np.arange(101,131)"
      ],
      "metadata": {
        "id": "OXve0sdeEwKV"
      },
      "execution_count": null,
      "outputs": []
    },
    {
      "cell_type": "code",
      "source": [
        "plt.plot(day_new,scaler.inverse_transform(df1[1173:])) #len(df1)\n",
        "plt.plot(day_pred,scaler.inverse_transform(lst_output))"
      ],
      "metadata": {
        "colab": {
          "base_uri": "https://localhost:8080/",
          "height": 448
        },
        "id": "AK8YR_bJEyRM",
        "outputId": "c6fd86af-7d0a-4cdc-d51a-6634cc357eff"
      },
      "execution_count": null,
      "outputs": [
        {
          "output_type": "execute_result",
          "data": {
            "text/plain": [
              "[<matplotlib.lines.Line2D at 0x7e662d5d4070>]"
            ]
          },
          "metadata": {},
          "execution_count": 219
        },
        {
          "output_type": "display_data",
          "data": {
            "text/plain": [
              "<Figure size 640x480 with 1 Axes>"
            ],
            "image/png": "[encoded data removed]"
          },
          "metadata": {}
        }
      ]
    },
    {
      "cell_type": "code",
      "source": [
        "df3=df1.tolist()\n",
        "df3.extend(lst_output)\n",
        "df3=scaler.inverse_transform(df3).tolist()\n",
        "plt.plot(df3[1173:])"
      ],
      "metadata": {
        "colab": {
          "base_uri": "https://localhost:8080/",
          "height": 448
        },
        "id": "0Img6tGEFQhL",
        "outputId": "04c072a8-edd0-44d5-ee33-4b1305d4971b"
      },
      "execution_count": null,
      "outputs": [
        {
          "output_type": "execute_result",
          "data": {
            "text/plain": [
              "[<matplotlib.lines.Line2D at 0x7e662fdd1090>]"
            ]
          },
          "metadata": {},
          "execution_count": 221
        },
        {
          "output_type": "display_data",
          "data": {
            "text/plain": [
              "<Figure size 640x480 with 1 Axes>"
            ],
            "image/png": "[encoded data removed]"
          },
          "metadata": {}
        }
      ]
    },
    {
      "cell_type": "code",
      "source": [
        "plt.plot(df3)"
      ],
      "metadata": {
        "colab": {
          "base_uri": "https://localhost:8080/",
          "height": 448
        },
        "id": "xlEsypQUFddR",
        "outputId": "787c8766-4739-43cf-e263-6aceaa786681"
      },
      "execution_count": null,
      "outputs": [
        {
          "output_type": "execute_result",
          "data": {
            "text/plain": [
              "[<matplotlib.lines.Line2D at 0x7e662f54c130>]"
            ]
          },
          "metadata": {},
          "execution_count": 222
        },
        {
          "output_type": "display_data",
          "data": {
            "text/plain": [
              "<Figure size 640x480 with 1 Axes>"
            ],
            "image/png": "[encoded data removed]"
          },
          "metadata": {}
        }
      ]
    }
  ]
}
